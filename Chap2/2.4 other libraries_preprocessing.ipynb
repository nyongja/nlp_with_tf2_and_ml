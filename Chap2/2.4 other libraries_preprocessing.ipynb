{
 "cells": [
  {
   "cell_type": "markdown",
   "metadata": {},
   "source": [
    "## 4. 그 밖의 라이브러리\n",
    "\n",
    "계산을 위한 라이브러리인 numpy, 데이터 분석을 위한 pandas, 시각화 도구인 matplotlib, 정규 표현식을 사용하기 위한 Re, HTML을 다루기 위한 Beautiful Soup에 대해 알아보자."
   ]
  },
  {
   "cell_type": "markdown",
   "metadata": {},
   "source": [
    "### 넘파이\n",
    "\n",
    "넘파이(numpy)는 빠르고 효율적인 계산을 위해 만들어진 파이썬 라이브러리다.  \n",
    "고성능의 다차원 배열 객체와 이러한 배열을 계산한 효율적인 도구를 제공.  \n",
    "핵심은 **ndarray** 객체! 이는 동일한 자료형을 가지는 n차원의 배열로 이 객체를 활용하면 파이썬에 내장된 배열을 사용하는 것보다 더 적은 코드로 연산이 가능하고 더 빠르게 결과를 얻을 수 있다!"
   ]
  },
  {
   "cell_type": "markdown",
   "metadata": {},
   "source": [
    "`conda install numpy`"
   ]
  },
  {
   "cell_type": "code",
   "execution_count": 1,
   "metadata": {},
   "outputs": [
    {
     "name": "stdout",
     "output_type": "stream",
     "text": [
      "[1 2 3]\n"
     ]
    }
   ],
   "source": [
    "import numpy as np\n",
    "a = np.array([1, 2, 3])\n",
    "print(a)"
   ]
  },
  {
   "cell_type": "markdown",
   "metadata": {},
   "source": [
    "#### 넘파이 배열\n",
    "넘파이 배열은 앞서 말한 **ndarray** 객체 형태다.  \n",
    "이 객체는 동일한 자료형을 가지는 값들이 표(또는 격자판) 형태로 구성돼 있다.  \n",
    "각 값은 음이 아닌 정수 값으로 색인되고, 객체의 차원은 axis(축)라 불린다.\n",
    "\n",
    "ndarray 객체의 속성에 대해 알아보자.\n",
    "- ndarray.ndim : 배열의 축(차원)의 수를 반환\n",
    "- ndarray.shape : 배열의 형태 반환. 예를 들어 2*3 크기의 2차원 배열이 있다면 이 배열의 shape은 (2,3)\n",
    "- ndarray.size : 배열내 원소의 총 개수 반환\n",
    "- ndarray.dtype : 배열 내 원소들의 자료형 반환"
   ]
  },
  {
   "cell_type": "code",
   "execution_count": 3,
   "metadata": {},
   "outputs": [
    {
     "name": "stdout",
     "output_type": "stream",
     "text": [
      "2\n",
      "(3, 3)\n",
      "9\n",
      "int32\n"
     ]
    }
   ],
   "source": [
    "a = np.array([[1, 2, 3], [4, 5, 6], [7, 8, 9]])\n",
    "\n",
    "print(a.ndim)\n",
    "print(a.shape)\n",
    "print(a.size)\n",
    "print(a.dtype)"
   ]
  },
  {
   "cell_type": "markdown",
   "metadata": {},
   "source": [
    "배열을 만들 때 다음과 같은 다양한 방법이 가능하다\n",
    "- numpy.zeros : 모든 배열의 원소가 0인 배열\n",
    "- numpy.ones : 모든 배열의 원소가 1인 배열\n",
    "- numpy.empty : 배열의 크기만 정해주고 원소는 초기화하지 않은 배열. 원소에는 매우 크거나 작은 값\n",
    "- numpy.arrange : 파이썬의 range 함수와 유사한 형태로 배열 생성. 배열의 원소들이 수열을 구성\n",
    "- numpy.full : 배열의 모든 값이 하나의 상수인 배열 생성\n",
    "- numpy.eye : 지정한 크기의 단위행렬 생성\n",
    "- numpy.random.random : 배열의 원소를 임의의 값으로 생성. 값은 0부터 1 사이의 값으로 지정"
   ]
  },
  {
   "cell_type": "code",
   "execution_count": 7,
   "metadata": {},
   "outputs": [
    {
     "name": "stdout",
     "output_type": "stream",
     "text": [
      "[[0. 0. 0.]\n",
      " [0. 0. 0.]]\n",
      "[[1.]\n",
      " [1.]]\n",
      "[[0.13226959 0.06988281]\n",
      " [0.36799482 0.80672   ]]\n",
      "[10 15 20 25]\n",
      "[[4 4]\n",
      " [4 4]]\n",
      "[[1. 0. 0.]\n",
      " [0. 1. 0.]\n",
      " [0. 0. 1.]]\n",
      "[[0.53838442 0.77226883]\n",
      " [0.89336903 0.82286565]]\n"
     ]
    }
   ],
   "source": [
    "a = np.zeros((2, 3))\n",
    "print(a)\n",
    "\n",
    "b = np.ones((2, 1))\n",
    "print(b)\n",
    "\n",
    "c = np.empty((2, 2))\n",
    "print(c)\n",
    "\n",
    "d = np.arange(10, 30, 5) # 10부터 30 전까지 5 단위로 배열 생성\n",
    "print(d)\n",
    "\n",
    "e = np.full((2, 2), 4) # 원소가 모두 4인 배열 생성\n",
    "print(e)\n",
    "\n",
    "f = np.eye(3)\n",
    "print(f)\n",
    "\n",
    "g = np.random.random((2, 2))\n",
    "print(g)"
   ]
  },
  {
   "cell_type": "markdown",
   "metadata": {},
   "source": [
    "#### 넘파이 기본 연산\n",
    "\n",
    "넘파이는 배열끼리 연산할 때 빠르고 사용하기 쉬운 여러 연산 함수를 제공.  \n",
    "넘파이에서 제공하는 기본 배열 연산에 대해 알아보자.  \n",
    "\n",
    "넘파이는 기본적인 사칙 연산을 모두 지원.  \n",
    "주의할 점은 벡터끼리의 곱셈과 내적을 구분한다는 것!  \n",
    "\\* 연산의 경우 벡터끼리 사용할 경우 원소별 곱셈을 의미\n",
    "dot 연산이 벡터의 내적!"
   ]
  },
  {
   "cell_type": "code",
   "execution_count": 10,
   "metadata": {},
   "outputs": [
    {
     "name": "stdout",
     "output_type": "stream",
     "text": [
      "[11 22 33]\n",
      "[11 22 33]\n",
      "[ -9 -18 -27]\n",
      "[ 9 18 27]\n",
      "[1 4 9]\n",
      "[ True False False]\n",
      "[[10 40]\n",
      " [90 40]]\n",
      "[[ 70  40]\n",
      " [150 100]]\n",
      "[[ 70  40]\n",
      " [150 100]]\n"
     ]
    }
   ],
   "source": [
    "a = np.array([1, 2, 3])\n",
    "b = np.array([10, 20, 30])\n",
    "\n",
    "print(a+b)\n",
    "\n",
    "print(np.add(a, b))\n",
    "\n",
    "print(a-b)\n",
    "\n",
    "print(np.subtract(b, a))\n",
    "\n",
    "print(a**2)\n",
    "\n",
    "print(b < 15)\n",
    "\n",
    "c = np.array([[1, 2], \n",
    "              [3, 4]])\n",
    "\n",
    "d = np.array([[10, 20],\n",
    "              [30, 10]])\n",
    "\n",
    "print(c * d) # 원소별 곱셈\n",
    "\n",
    "print(np.dot(c, d)) # 내적\n",
    "\n",
    "print(c.dot(d)) # 내적의 또 다른 사용법"
   ]
  },
  {
   "cell_type": "markdown",
   "metadata": {},
   "source": [
    "위의 기본적인 연산 외에 중요한 연산 기능은 **축(axis)** 을 기준으로 한 연산."
   ]
  },
  {
   "cell_type": "code",
   "execution_count": 12,
   "metadata": {},
   "outputs": [
    {
     "name": "stdout",
     "output_type": "stream",
     "text": [
      "[ 7 11 15 19]\n",
      "[10 26 16]\n",
      "[4 8 7]\n",
      "[5 6 7 8]\n"
     ]
    }
   ],
   "source": [
    "a = np.array([[1, 2, 3, 4], \n",
    "              [5, 6, 7, 8],\n",
    "              [1, 3, 5, 7]])\n",
    "\n",
    "print(a.sum(axis = 0)) # 0축, 즉 열을 기준으로 한 덧셈\n",
    "\n",
    "print(a.sum(axis = 1)) # 1축, 즉 행을 기준으로 한 덧셈\n",
    "\n",
    "print(a.max(axis = 1)) # 각 행에서의 최댓값\n",
    "\n",
    "print(a.max(axis = 0)) # 각 열에서의 최댓값"
   ]
  },
  {
   "cell_type": "markdown",
   "metadata": {},
   "source": [
    "#### 넘파이 배열 인덱싱, 슬라이싱\n",
    "\n",
    "넘파이 배열은 파이썬과 마찬가지로 인덱싱과 슬라이싱이 가능  \n",
    "\n",
    "다차원 배열의 경우 넘파이는 유용한 인덱싱과 슬라이싱 기능을 제공.  \n",
    "이 경우 인덱싱은 축(axis)을 기준으로 함!"
   ]
  },
  {
   "cell_type": "code",
   "execution_count": 16,
   "metadata": {},
   "outputs": [
    {
     "name": "stdout",
     "output_type": "stream",
     "text": [
      "6\n",
      "[2 5 8]\n",
      "[7 8 9]\n"
     ]
    }
   ],
   "source": [
    "a = np.array([[1, 2, 3],\n",
    "              [4, 5, 6],\n",
    "              [7, 8, 9]])\n",
    "\n",
    "print(a[1, 2])\n",
    "\n",
    "print(a[ : , 1]) #1열의 모든 원소\n",
    "\n",
    "print(a[-1]) # 마지막 행"
   ]
  },
  {
   "cell_type": "markdown",
   "metadata": {},
   "source": [
    "#### 넘파이 브로드캐스팅\n",
    "배열의 경우 두 배열의 형태가 같아야만 사용할 수 있음.  \n",
    "하지만 넘파이는 브로드캐스팅이라는 기능을 통해 다른 형태의 배열끼리도 연산이 가능하게 만들어 줌.  \n",
    "\n",
    "예를 들면, 작은 크기의 배열을 큰 크기의 배열에 더하고 싶을 때 반복문을 사용하지않고도 더할 수 있음!"
   ]
  },
  {
   "cell_type": "code",
   "execution_count": 18,
   "metadata": {},
   "outputs": [
    {
     "name": "stdout",
     "output_type": "stream",
     "text": [
      "[[ 2  2  4]\n",
      " [ 5  5  7]\n",
      " [ 8  8 10]]\n"
     ]
    }
   ],
   "source": [
    "a = np.array([[1, 2, 3], [4, 5, 6], [7, 8, 9]])\n",
    "b = np.array([1, 0, 1])\n",
    "y = np.empty_like(a) # 배열 a와 크기가 같은 원소가 비어있는 배열 생성\n",
    "\n",
    "# 배열 b를 a의 각 행에 더해주기 위해 반복문 사용\n",
    "for i in range(3) : \n",
    "    y[i, : ] = a[i, : ] + b\n",
    "\n",
    "print(y)"
   ]
  },
  {
   "cell_type": "markdown",
   "metadata": {},
   "source": [
    "브로드캐스팅을 사용하면 반복문 없이 매우 간단하게 계산 가능!"
   ]
  },
  {
   "cell_type": "code",
   "execution_count": 19,
   "metadata": {},
   "outputs": [
    {
     "name": "stdout",
     "output_type": "stream",
     "text": [
      "[[ 2  2  4]\n",
      " [ 5  5  7]\n",
      " [ 8  8 10]]\n"
     ]
    }
   ],
   "source": [
    "a = np.array([[1, 2, 3], [4, 5, 6], [7, 8, 9]])\n",
    "b = np.array([1, 0, 1])\n",
    "\n",
    "c = a + b\n",
    "print(c)"
   ]
  },
  {
   "cell_type": "markdown",
   "metadata": {},
   "source": [
    "이처럼 넘파이를 이용하면 배열이나 행렬을 다룰 때 시간 및 효율성 측면에서 매우 우수하기 때문에 주로 행렬 혹은 벡터 데이터를 다루는 머신러닝, 딥러닝 분야에서는 넘파이가 필수적인 라이브러리로 인식되고 있다"
   ]
  },
  {
   "cell_type": "markdown",
   "metadata": {},
   "source": [
    "### 판다스\n",
    "판다스(pandas)란 데이터 과학을 위해 꼭 필요한 파이썬 라이브러리 중 하나!  \n",
    "편리한 데이터 구조와 데이터 분석 기능을 제공하기 때문에 데이터를 다루기 위해서 반드시 알아야 함"
   ]
  },
  {
   "cell_type": "markdown",
   "metadata": {},
   "source": [
    "`conda install pandas`"
   ]
  },
  {
   "cell_type": "code",
   "execution_count": 20,
   "metadata": {},
   "outputs": [],
   "source": [
    "import pandas as pd"
   ]
  },
  {
   "cell_type": "markdown",
   "metadata": {},
   "source": [
    "#### 판다스 데이터 구조\n",
    "- 시리즈(Series)\n",
    "- 데이터프레임(DataFrame)\n",
    "- 패널(Panel)"
   ]
  },
  {
   "cell_type": "markdown",
   "metadata": {},
   "source": [
    "세 가지 데이터 구조를 구분하는 가장 명확한 기준은 차원!  \n",
    "Series 데이터 구조의 경우 1차원의 데이터 구조, DataFrame은 2차원, Panel은 3차원!  \n",
    "데이터프레임의 각 열은 각각 시리즈 형태.  \n",
    "패널은 데이터프레임의 모음"
   ]
  },
  {
   "cell_type": "markdown",
   "metadata": {},
   "source": [
    "#### 판다스 데이터 생성"
   ]
  },
  {
   "cell_type": "markdown",
   "metadata": {},
   "source": [
    "#### 시리즈 생성\n",
    "1차원 데이터 시리즈를 만드는 명령은 다음과 같다  \n",
    "`pandas.Series(data, index, dtype, copy)`  \n",
    "data외의 값은 생략 가능!"
   ]
  },
  {
   "cell_type": "code",
   "execution_count": 24,
   "metadata": {},
   "outputs": [
    {
     "name": "stdout",
     "output_type": "stream",
     "text": [
      "0     1\n",
      "1     3\n",
      "2     5\n",
      "3     7\n",
      "4    10\n",
      "dtype: int64\n"
     ]
    }
   ],
   "source": [
    "a = pd.Series([1, 3, 5, 7, 10]) # 리스트를 이용한 시리즈 데이터 생성\n",
    "print(a)"
   ]
  },
  {
   "cell_type": "code",
   "execution_count": 26,
   "metadata": {},
   "outputs": [
    {
     "name": "stdout",
     "output_type": "stream",
     "text": [
      "0    a\n",
      "1    b\n",
      "2    c\n",
      "3    d\n",
      "dtype: object\n"
     ]
    }
   ],
   "source": [
    "data = np.array(['a', 'b', 'c', 'd']) # 넘파이 배열 생성\n",
    "b = pd.Series(data) # 넘파이 배열을 이용한 시리즈 데이터 생성\n",
    "print(b)"
   ]
  },
  {
   "cell_type": "code",
   "execution_count": 27,
   "metadata": {},
   "outputs": [
    {
     "name": "stdout",
     "output_type": "stream",
     "text": [
      "0    10\n",
      "1    15\n",
      "2    20\n",
      "3    25\n",
      "dtype: int32\n"
     ]
    }
   ],
   "source": [
    "c = pd.Series(np.arange(10, 30, 5)) # 넘파이 arange 함수로 생성한 배열로 시리즈 생성\n",
    "print(c)"
   ]
  },
  {
   "cell_type": "markdown",
   "metadata": {},
   "source": [
    "시리즈 데이터는 기본적으로 순서대로 **index** 가 존재하는데 이 값을 원하는 값으로 바꿔줄 수 있음!  \n",
    "파이썬의 딕셔너리를 활용해 시리즈를 생성하면 이 index 값은 딕셔너리의 키 값으로 지정됨"
   ]
  },
  {
   "cell_type": "code",
   "execution_count": 29,
   "metadata": {},
   "outputs": [
    {
     "name": "stdout",
     "output_type": "stream",
     "text": [
      "10    a\n",
      "20    b\n",
      "30    c\n",
      "dtype: object\n"
     ]
    }
   ],
   "source": [
    "a = pd.Series(['a', 'b', 'c'], index = [10, 20, 30]) # 인덱스를 직접 지정\n",
    "print(a)"
   ]
  },
  {
   "cell_type": "code",
   "execution_count": 31,
   "metadata": {},
   "outputs": [
    {
     "name": "stdout",
     "output_type": "stream",
     "text": [
      "a    10\n",
      "b    20\n",
      "c    30\n",
      "dtype: int64\n"
     ]
    }
   ],
   "source": [
    "dict = {'a' : 10, 'b' : 20, 'c' : 30} # 파이썬 딕셔너리를 활용한 시리즈 생성\n",
    "d = pd.Series(dict)\n",
    "print(d)"
   ]
  },
  {
   "cell_type": "markdown",
   "metadata": {},
   "source": [
    "#### 데이터프레임 생성\n",
    "데이터프레임은 2차원 데이터다.\n",
    "`pandas.DataFrame(data, index, columns, dtype, copy)`\n",
    "시리즈에는 없던 column값이 생겼음. 이를 통해 각 열의 라벨을 지정할 수 있음!  \n",
    "data를 제외한 나머지 값은 생략 가능."
   ]
  },
  {
   "cell_type": "code",
   "execution_count": 32,
   "metadata": {},
   "outputs": [
    {
     "name": "stdout",
     "output_type": "stream",
     "text": [
      "   0\n",
      "0  1\n",
      "1  3\n",
      "2  5\n",
      "3  7\n",
      "4  9\n"
     ]
    }
   ],
   "source": [
    "a = pd.DataFrame([1, 3, 5, 7, 9]) # 리스트를 이용한 생성\n",
    "print(a)"
   ]
  },
  {
   "cell_type": "code",
   "execution_count": 33,
   "metadata": {},
   "outputs": [
    {
     "name": "stdout",
     "output_type": "stream",
     "text": [
      "  Name  Age\n",
      "0  Cho   28\n",
      "1  Kim   31\n",
      "2  Lee   38\n"
     ]
    }
   ],
   "source": [
    "dict = {'Name' : ['Cho', 'Kim', 'Lee'], 'Age' : [28, 31, 38]}\n",
    "b = pd.DataFrame(dict) # 딕셔너리를 이용한 생성\n",
    "print(b)"
   ]
  },
  {
   "cell_type": "code",
   "execution_count": 34,
   "metadata": {},
   "outputs": [
    {
     "name": "stdout",
     "output_type": "stream",
     "text": [
      "        0     1\n",
      "0   apple  7000\n",
      "1  banana  5000\n",
      "2  orange  4000\n"
     ]
    }
   ],
   "source": [
    "c = pd.DataFrame([['apple', 7000], ['banana', 5000], ['orange', 4000]]) # 리스트의 중첩에의한 생성\n",
    "print(c)"
   ]
  },
  {
   "cell_type": "markdown",
   "metadata": {},
   "source": [
    "데이터프레임의 구조를 살펴보면 각 열의 상단에 인덱스가 지정돼 있는 모습을 볼 수 있음.  \n",
    "여기서 다음과 같이 인덱스를 칼럼 인자값을 통해 지정해 줄 수 있음."
   ]
  },
  {
   "cell_type": "code",
   "execution_count": 35,
   "metadata": {},
   "outputs": [
    {
     "name": "stdout",
     "output_type": "stream",
     "text": [
      "     name  price\n",
      "0   apple   7000\n",
      "1  banana   5000\n",
      "2  orange   4000\n"
     ]
    }
   ],
   "source": [
    "a = pd.DataFrame([['apple', 7000], ['banana', 5000], ['orange', 4000]], columns = ['name', 'price'])\n",
    "print(a)"
   ]
  },
  {
   "cell_type": "markdown",
   "metadata": {},
   "source": [
    "#### 판다스 데이터 불러오기 및 쓰기\n",
    "위에서 판다스의 시리즈와 데이터프레임을 만드는 법을 알아봤으나 실제로 데이터를 다룰 때는 직접 작성하지 않고 데이터 파일을 읽어서 사용!  \n",
    "보통의 데이터셋은 .csv 파일 형식으로 돼 있음.  \n",
    "판다스의 read_csv 라는 함수를 이용하면 쉽고 간단하게 이러한 데이터 파일들을 읽어올 수 있음. \n",
    "\n",
    "`pandas.read_csv('file_path')`"
   ]
  },
  {
   "cell_type": "code",
   "execution_count": 37,
   "metadata": {},
   "outputs": [],
   "source": [
    "df = pd.read_csv('./data_in/datafile.csv')"
   ]
  },
  {
   "cell_type": "code",
   "execution_count": 38,
   "metadata": {},
   "outputs": [
    {
     "name": "stdout",
     "output_type": "stream",
     "text": [
      "     Unnamed: 0         A         B    C\n",
      "0    2018-02-03  0.076547 -0.410959  824\n",
      "1    2018-02-04  0.810574  0.988997  255\n",
      "2    2018-02-05  0.071555  0.772209  859\n",
      "3    2018-02-06  0.319684  0.760100  551\n",
      "4    2018-02-07  0.571791  0.162974  159\n",
      "..          ...       ...       ...  ...\n",
      "295  2018-11-25  0.961260 -0.160928  772\n",
      "296  2018-11-26  0.412032  0.739386  171\n",
      "297  2018-11-27  0.934486  0.496985  925\n",
      "298  2018-11-28  0.072067  0.697545  919\n",
      "299  2018-11-29  0.705263 -0.866304  146\n",
      "\n",
      "[300 rows x 4 columns]\n"
     ]
    }
   ],
   "source": [
    "print(df)"
   ]
  },
  {
   "cell_type": "markdown",
   "metadata": {},
   "source": [
    "#### 판다스 데이터 다루기\n",
    "위 데이터는 3개의 열(column)을 가지고 잇고, 상황에 따라 필요한 열만 읽어 올 수도, 특정 열을 더해 새로운 열을 만들거나 특정 열을 제거할 수도 있다.  \n",
    "또한 필요없는 행을 제거하는 것 역시 쉬움!"
   ]
  },
  {
   "cell_type": "code",
   "execution_count": 40,
   "metadata": {},
   "outputs": [
    {
     "name": "stdout",
     "output_type": "stream",
     "text": [
      "0      0.076547\n",
      "1      0.810574\n",
      "2      0.071555\n",
      "3      0.319684\n",
      "4      0.571791\n",
      "         ...   \n",
      "295    0.961260\n",
      "296    0.412032\n",
      "297    0.934486\n",
      "298    0.072067\n",
      "299    0.705263\n",
      "Name: A, Length: 300, dtype: float64\n"
     ]
    }
   ],
   "source": [
    "data_frame = pd.read_csv('./data_in/datafile.csv')\n",
    "\n",
    "print(data_frame['A']) # A열의 데이터만 확인"
   ]
  },
  {
   "cell_type": "code",
   "execution_count": 41,
   "metadata": {},
   "outputs": [
    {
     "name": "stdout",
     "output_type": "stream",
     "text": [
      "0    0.076547\n",
      "1    0.810574\n",
      "2    0.071555\n",
      "Name: A, dtype: float64\n"
     ]
    }
   ],
   "source": [
    "print(data_frame['A'][:3]) # A열의 데이터 중 앞의 3개만 확인"
   ]
  },
  {
   "cell_type": "code",
   "execution_count": 44,
   "metadata": {},
   "outputs": [
    {
     "name": "stdout",
     "output_type": "stream",
     "text": [
      "     Unnamed: 0         A         B    C         D\n",
      "0    2018-02-03  0.076547 -0.410959  824 -0.334412\n",
      "1    2018-02-04  0.810574  0.988997  255  1.799571\n",
      "2    2018-02-05  0.071555  0.772209  859  0.843764\n",
      "3    2018-02-06  0.319684  0.760100  551  1.079784\n",
      "4    2018-02-07  0.571791  0.162974  159  0.734765\n",
      "..          ...       ...       ...  ...       ...\n",
      "295  2018-11-25  0.961260 -0.160928  772  0.800332\n",
      "296  2018-11-26  0.412032  0.739386  171  1.151419\n",
      "297  2018-11-27  0.934486  0.496985  925  1.431471\n",
      "298  2018-11-28  0.072067  0.697545  919  0.769612\n",
      "299  2018-11-29  0.705263 -0.866304  146 -0.161041\n",
      "\n",
      "[300 rows x 5 columns]\n"
     ]
    }
   ],
   "source": [
    "data_frame['D'] = data_frame['A'] + data_frame['B']\n",
    "print(data_frame)"
   ]
  },
  {
   "cell_type": "markdown",
   "metadata": {},
   "source": [
    "이러한 기본적인 데이터 확인 뿐 아니라 판다스는 데이터를 쉽게 이해할 수 있게 다양한 함수를 제공.  \n",
    "describe() 함수를 사용하면 데이터에 대한 평균, 표준편차 등 다양한 수치값을 얻을 수 있음."
   ]
  },
  {
   "cell_type": "code",
   "execution_count": 45,
   "metadata": {},
   "outputs": [
    {
     "data": {
      "text/html": [
       "<div>\n",
       "<style scoped>\n",
       "    .dataframe tbody tr th:only-of-type {\n",
       "        vertical-align: middle;\n",
       "    }\n",
       "\n",
       "    .dataframe tbody tr th {\n",
       "        vertical-align: top;\n",
       "    }\n",
       "\n",
       "    .dataframe thead th {\n",
       "        text-align: right;\n",
       "    }\n",
       "</style>\n",
       "<table border=\"1\" class=\"dataframe\">\n",
       "  <thead>\n",
       "    <tr style=\"text-align: right;\">\n",
       "      <th></th>\n",
       "      <th>A</th>\n",
       "      <th>B</th>\n",
       "      <th>C</th>\n",
       "      <th>D</th>\n",
       "    </tr>\n",
       "  </thead>\n",
       "  <tbody>\n",
       "    <tr>\n",
       "      <th>count</th>\n",
       "      <td>300.000000</td>\n",
       "      <td>300.000000</td>\n",
       "      <td>300.000000</td>\n",
       "      <td>300.000000</td>\n",
       "    </tr>\n",
       "    <tr>\n",
       "      <th>mean</th>\n",
       "      <td>0.504467</td>\n",
       "      <td>0.120235</td>\n",
       "      <td>517.743333</td>\n",
       "      <td>0.624702</td>\n",
       "    </tr>\n",
       "    <tr>\n",
       "      <th>std</th>\n",
       "      <td>0.283837</td>\n",
       "      <td>0.576256</td>\n",
       "      <td>283.187160</td>\n",
       "      <td>0.656320</td>\n",
       "    </tr>\n",
       "    <tr>\n",
       "      <th>min</th>\n",
       "      <td>0.003110</td>\n",
       "      <td>-0.981417</td>\n",
       "      <td>0.000000</td>\n",
       "      <td>-0.890799</td>\n",
       "    </tr>\n",
       "    <tr>\n",
       "      <th>25%</th>\n",
       "      <td>0.241881</td>\n",
       "      <td>-0.336614</td>\n",
       "      <td>282.250000</td>\n",
       "      <td>0.100411</td>\n",
       "    </tr>\n",
       "    <tr>\n",
       "      <th>50%</th>\n",
       "      <td>0.528009</td>\n",
       "      <td>0.224035</td>\n",
       "      <td>526.500000</td>\n",
       "      <td>0.767702</td>\n",
       "    </tr>\n",
       "    <tr>\n",
       "      <th>75%</th>\n",
       "      <td>0.750084</td>\n",
       "      <td>0.591710</td>\n",
       "      <td>754.250000</td>\n",
       "      <td>1.141083</td>\n",
       "    </tr>\n",
       "    <tr>\n",
       "      <th>max</th>\n",
       "      <td>0.994491</td>\n",
       "      <td>0.989536</td>\n",
       "      <td>996.000000</td>\n",
       "      <td>1.857518</td>\n",
       "    </tr>\n",
       "  </tbody>\n",
       "</table>\n",
       "</div>"
      ],
      "text/plain": [
       "                A           B           C           D\n",
       "count  300.000000  300.000000  300.000000  300.000000\n",
       "mean     0.504467    0.120235  517.743333    0.624702\n",
       "std      0.283837    0.576256  283.187160    0.656320\n",
       "min      0.003110   -0.981417    0.000000   -0.890799\n",
       "25%      0.241881   -0.336614  282.250000    0.100411\n",
       "50%      0.528009    0.224035  526.500000    0.767702\n",
       "75%      0.750084    0.591710  754.250000    1.141083\n",
       "max      0.994491    0.989536  996.000000    1.857518"
      ]
     },
     "execution_count": 45,
     "metadata": {},
     "output_type": "execute_result"
    }
   ],
   "source": [
    "data_frame.describe()"
   ]
  },
  {
   "cell_type": "markdown",
   "metadata": {},
   "source": [
    "### Matplotlib\n",
    "데이터 혹은 결괏값들을 수치로 보는 것보다 그래프로 시각화된 자료를 보는 것이 훨씬 더 직관적으로 잘 이해가 됨!\n",
    "\n",
    "`conda install matplotlib`"
   ]
  },
  {
   "cell_type": "code",
   "execution_count": 46,
   "metadata": {},
   "outputs": [],
   "source": [
    "import matplotlib"
   ]
  },
  {
   "cell_type": "markdown",
   "metadata": {},
   "source": [
    "#### Matplotlib.pyplot\n",
    "파이플롯(pyplot)은 matplotlib 안에 포함된 서브 모듈!  \n",
    "시각화를 위한 많은 함수가 있으며, 실제로 사용할 때 pyplot을 활용하는 경우가 많음.  \n",
    "간단한 시각화의 경우에는 pyplot만으로도 충분!"
   ]
  },
  {
   "cell_type": "code",
   "execution_count": 48,
   "metadata": {},
   "outputs": [],
   "source": [
    "import matplotlib.pyplot as plt"
   ]
  },
  {
   "cell_type": "code",
   "execution_count": 51,
   "metadata": {},
   "outputs": [],
   "source": [
    "%matplotlib inline \n",
    "# jupyter notebook 처음 사용시 다음 명령을 입력해 jupyter notebook 내부에서 그림 표시!"
   ]
  },
  {
   "cell_type": "markdown",
   "metadata": {},
   "source": [
    "#### 기본적인 그래프 그리기\n",
    "특정한 x와 y값을 가지는 그래프 그리기는 어렵지 않다!  \n",
    "x리스트와 y 리스트를 따로 정의한 후 pyplot 함수를 사용하면 됨!"
   ]
  },
  {
   "cell_type": "code",
   "execution_count": 53,
   "metadata": {},
   "outputs": [
    {
     "data": {
      "text/plain": [
       "[<matplotlib.lines.Line2D at 0x14f8fccc9c8>]"
      ]
     },
     "execution_count": 53,
     "metadata": {},
     "output_type": "execute_result"
    },
    {
     "data": {
      "image/png": "[encoded data removed]",
      "text/plain": [
       "<Figure size 432x288 with 1 Axes>"
      ]
     },
     "metadata": {
      "needs_background": "light"
     },
     "output_type": "display_data"
    }
   ],
   "source": [
    "x = [1, 3, 5, 7, 9]\n",
    "y = [100, 200, 300, 400, 500]\n",
    "plt.plot(x, y)"
   ]
  },
  {
   "cell_type": "markdown",
   "metadata": {},
   "source": [
    "#### 코사인 함수 그리기"
   ]
  },
  {
   "cell_type": "code",
   "execution_count": 54,
   "metadata": {},
   "outputs": [
    {
     "data": {
      "text/plain": [
       "[<matplotlib.lines.Line2D at 0x14f91d79208>]"
      ]
     },
     "execution_count": 54,
     "metadata": {},
     "output_type": "execute_result"
    },
    {
     "data": {
      "image/png": "[encoded data removed]",
      "text/plain": [
       "<Figure size 432x288 with 1 Axes>"
      ]
     },
     "metadata": {
      "needs_background": "light"
     },
     "output_type": "display_data"
    }
   ],
   "source": [
    "x = np.linspace(-np.pi, np.pi, 128) # 연속적인 값을 갖는 배열\n",
    "y = np.cos(x) # x 리스트에 대한 cos 값 계산\n",
    "plt.plot(y)"
   ]
  },
  {
   "cell_type": "markdown",
   "metadata": {},
   "source": [
    "#### 판다스 데이터 시각화\n",
    "데이터는 보통 판다스를 사용해서 다루기 때문에 판다스 데이터를 시각화하는 것이 중요!  \n",
    "기본적으로 시리즈와 데이터프레임에 대하여 판다스는 plot()함수를 내장함.  \n",
    "따라서 matplotlib을 따로 불러오지 않아도 판다스의 plot()함수를 사용할 수 있음.  \n",
    "사용법 또한 어렵지 않다!"
   ]
  },
  {
   "cell_type": "code",
   "execution_count": 55,
   "metadata": {},
   "outputs": [
    {
     "data": {
      "text/plain": [
       "<matplotlib.axes._subplots.AxesSubplot at 0x14f91d3a588>"
      ]
     },
     "execution_count": 55,
     "metadata": {},
     "output_type": "execute_result"
    },
    {
     "data": {
      "image/png": "[encoded data removed]",
      "text/plain": [
       "<Figure size 432x288 with 1 Axes>"
      ]
     },
     "metadata": {
      "needs_background": "light"
     },
     "output_type": "display_data"
    }
   ],
   "source": [
    "data_frame = pd.read_csv('./data_in/datafile.csv')\n",
    "data_frame.plot()"
   ]
  },
  {
   "cell_type": "markdown",
   "metadata": {},
   "source": [
    "A, B, C 중에 C 데이터만 보이는 이뉴는 데이터 값이 상대적으로 다른 값에 비해 크기 때문!  \n",
    "\n",
    "만약 누적된 값을 가지고 데이터의 증감에 대해 시각화하고 싶다면 **Pandas.cumsum()** 함수를 이용한 후 시각화"
   ]
  },
  {
   "cell_type": "code",
   "execution_count": 56,
   "metadata": {},
   "outputs": [
    {
     "data": {
      "text/plain": [
       "<matplotlib.axes._subplots.AxesSubplot at 0x14f91e4ae48>"
      ]
     },
     "execution_count": 56,
     "metadata": {},
     "output_type": "execute_result"
    },
    {
     "data": {
      "image/png": "[encoded data removed]",
      "text/plain": [
       "<Figure size 432x288 with 1 Axes>"
      ]
     },
     "metadata": {
      "needs_background": "light"
     },
     "output_type": "display_data"
    }
   ],
   "source": [
    "data_sum = data_frame.cumsum() # 데이터를 누적값으로 바꿔줌\n",
    "data_sum.plot()"
   ]
  },
  {
   "cell_type": "markdown",
   "metadata": {},
   "source": [
    "이처럼 matplotlib을 이용하면 데이터를 시각화하기 매우 쉬움!  \n",
    "수치로 보는 것보다 시각화해서 보는 편이 훨씬 직관적이고 데이터를 이해하기 쉬운 경우가 많아 데이터 과학자에게 시각화는 기본 소양!  "
   ]
  },
  {
   "cell_type": "markdown",
   "metadata": {},
   "source": [
    "#### re\n",
    "re는 파이썬 정규 표현식(Regular Expression) 라이브러리.  \n",
    "다른 라이브러리와 달리 파이썬 내장 라이브러리라 별다른 설치 없이 바로 사용 가능.  \n",
    "re를 사용해 문자열을 쉽게 다룰 수 있어 주로 NLP에서 많이 사용.  \n",
    "특히 전처리 과정에서 많이 사용하며, 특정 문자열을 제거하거나 검색 혹은 치환 등에 주로 사용.  \n",
    "\n",
    "정규 표현식을 작성할 때는 특별한 의미를 가진 문자나 기호를 사용함!"
   ]
  },
  {
   "cell_type": "markdown",
   "metadata": {},
   "source": [
    "#### 파이썬 정규 표현식\n",
    "\n",
    "정규 표현식에 사용하는 특별한 문자나 기호는 뭐가 있을까?\n",
    "\n",
    "- . : 줄 바꿈을 제외한 모든 문자\n",
    "- ^ : 문자열의 시작\n",
    "- $ : 문자열의 끝\n",
    "- \\* : 앞에 있는 문자가 0회 이상 반복된 문자열\n",
    "- \\+ : 앞에 있는 문자가 1회 이상 반복된 문자열\n",
    "- {m} : 앞 문자를 m번 반복하는 문자열\n",
    "- {m, n} : 앞 문자를 m~n회 반복하는 문자열\n",
    "- ? : 앞 문자가 나오거나 나오지 않는 문자열 ({0, 1}과 동일)\n",
    "- \\d : 숫자\n",
    "- \\D : 숫자가 아닌 문자\n",
    "- \\w : 문자 혹은 숫자\n",
    "- \\W : 문자 혹은 숫자가 아닌 것\n",
    "- (...) : 괄호 안의 모든 정규 표현식을 만족하는 문자\n",
    "- [abc] : a, b, c 중 한 개의 문자와 일치"
   ]
  },
  {
   "cell_type": "markdown",
   "metadata": {},
   "source": [
    "### re 함수\n",
    "자연어 처리에 주로 사용되는 함수 위주로 알아보자."
   ]
  },
  {
   "cell_type": "code",
   "execution_count": 58,
   "metadata": {},
   "outputs": [],
   "source": [
    "import re"
   ]
  },
  {
   "cell_type": "markdown",
   "metadata": {},
   "source": [
    "- re.compile\n",
    ": compile 함수는 특정 기호를 정규 표현식 객체로 만들어줌.  \n",
    "re 라이브러리를 사용하려면 정규 표현식 패턴을 매번 작성해야 하는데, 이 함수를 사용해 패턴을 컴파일하면 필요할 때마다 사용할 수 있음. "
   ]
  },
  {
   "cell_type": "code",
   "execution_count": 59,
   "metadata": {},
   "outputs": [],
   "source": [
    "pattern = '\\W+'\n",
    "re_pattern = re.compile(pattern)"
   ]
  },
  {
   "cell_type": "markdown",
   "metadata": {},
   "source": [
    "- re.search(pattern, string)  \n",
    ": search함수는 해당 문자열에서 정규 표현식에 해당하는 첫 부분을 찾음"
   ]
  },
  {
   "cell_type": "code",
   "execution_count": 62,
   "metadata": {},
   "outputs": [
    {
     "data": {
      "text/plain": [
       "<re.Match object; span=(0, 3), match='wow'>"
      ]
     },
     "execution_count": 62,
     "metadata": {},
     "output_type": "execute_result"
    }
   ],
   "source": [
    "re.search(\"(\\w+)\", \"wow, it is awesome\")"
   ]
  },
  {
   "cell_type": "markdown",
   "metadata": {},
   "source": [
    "위 예제는 \"wow, it is awesome\"이라는 문장에서 \"(\\w+)\"라는 패턴을 가진 부분을 찾는 과정.  \n",
    "즉 탭, 줄바꿈, 공백이 아닌 문자를 모두 찾는 과정인데, 결과를 보면 범위가 (0, 3), 찾은 문자는 'wow'로 나온다.  \n",
    "즉, wow 이후로는 띄어쓰기가 나와서 그 전까지의 문자인 'wow'가 결과값으로 나온다!"
   ]
  },
  {
   "cell_type": "markdown",
   "metadata": {},
   "source": [
    "- re.split(pattern, string)\n",
    ": split 함수는 해당 문자열에서 특정 패턴으로 문자열을 나눠서 리스트로 만든것."
   ]
  },
  {
   "cell_type": "code",
   "execution_count": 64,
   "metadata": {},
   "outputs": [
    {
     "data": {
      "text/plain": [
       "['wow', '', 'it', 'is', 'world', 'of', 'word']"
      ]
     },
     "execution_count": 64,
     "metadata": {},
     "output_type": "execute_result"
    }
   ],
   "source": [
    "re.split('\\W', 'wow, it is world of word')"
   ]
  },
  {
   "cell_type": "markdown",
   "metadata": {},
   "source": [
    "결과를 보면 띄어쓰기 기준으로 문장이 나눠져있는데 이는 패턴으로 문자와 숫자가 아닌 것을 넣었기 때문에 공백을 기준으로 문장이 나눠진 것!"
   ]
  },
  {
   "cell_type": "markdown",
   "metadata": {},
   "source": [
    "- re.sub(pattern, repl, string)\n",
    ": sub함수는 문자열에서 특정 패턴을 만족시키는 문자를 사용자가 정의한 문자(repl)로 치환한다."
   ]
  },
  {
   "cell_type": "code",
   "execution_count": 65,
   "metadata": {},
   "outputs": [
    {
     "data": {
      "text/plain": [
       "'number candy'"
      ]
     },
     "execution_count": 65,
     "metadata": {},
     "output_type": "execute_result"
    }
   ],
   "source": [
    "re.sub(\"\\d\", \"number\", \"7 candy\")"
   ]
  },
  {
   "cell_type": "markdown",
   "metadata": {},
   "source": [
    "### Beautiful Soup\n",
    "Beautiful Soup은 주로 웹 크롤링(web crawling)에 사용되는 라이브러리로서 HTML 문서 혹은 XML 문서에서 데이터를 불러오는 데 사용.  \n",
    "이 책에서는 주로 HTML 태그를 제거하기 위해 사용!\n",
    "\n",
    "`conda install -c anaconda beautifulsoup4`"
   ]
  },
  {
   "cell_type": "markdown",
   "metadata": {},
   "source": [
    "Beautiful Soup을 통해 웹에 있는 HTML 문서를 가져오거나 파싱할 수 있음.  \n",
    "\n",
    "자연어 처리에 사용되는 데이터 중에는 웹 크롤링을 통해 모은 데이터가 많다.  \n",
    "예를 들면, 인터넷의 영화 리뷰나 질문 사이트의 질문 텍스트 등 웹 크롤링을 통해 모아둔 데이터들이 있음!  \n",
    "\n",
    "보통의 데이터는 어느 정도 정제돼 있어 바로 사용하면 되지만 간혹 일부 텍스트의 경우 HTML 태그가 그대로 남아있는 경우가 있음.  \n",
    "이때 Beautiful Soup을 이용하면 손쉽게 이러한 태그를 제거할 수 있음.  \n",
    "\n",
    "다음 예제를 통해 HTML 태그가 포함된 텍스트에서 태그를 제거하는 방법을 알아보자. "
   ]
  },
  {
   "cell_type": "code",
   "execution_count": 72,
   "metadata": {},
   "outputs": [
    {
     "name": "stdout",
     "output_type": "stream",
     "text": [
      " 이 글은 Beautiful soup 라이브러리를 사용하는 방법에 대한 글입니다. 라이브러리를 사용하면 쉽게 HTML 태그를 제거할 수 있습니다.\n"
     ]
    }
   ],
   "source": [
    "from bs4 import BeautifulSoup\n",
    "\n",
    "str = '<body> 이 글은 Beautiful soup 라이브러리를 사용하는 방법에 대한 글입니다. <br></br>라이브러리를 사용하면 쉽게 HTML 태그를 제거할 수 있습니다.</body>'\n",
    "\n",
    "str = BeautifulSoup(str, \"html5lib\").get_text() # HTNL 태그를 제외한 텍스트만 가져온다\n",
    "\n",
    "print(str)"
   ]
  },
  {
   "cell_type": "markdown",
   "metadata": {},
   "source": [
    "## 5. 캐글 사용법\n",
    "캐글은 '데이터 과학자들의 놀이터'라고도 불린다.  \n",
    "그만큼 많은 데이터 분석가들이 캐글의 대회에 참여해서 많은 문제를 풀고 서로 경쟁하고 문제를 해결한 방법들을 공유하며 토론.  \n",
    "\n",
    "캐글 대회는 주어진 대회 데이터로 각자 기획한 모델을 통해 결과 점수를 받고, 그 점수에 따라 다른 사람들과 경쟁하는 구조.  \n",
    "\n",
    "일반사람들은 데이터를 구하기 어려운데 캐글은 데이터도 제공하고 자신이 만든 모델을 다른 사람들의 모델과 비교하며 공부할 수 있다는 점이 매력적."
   ]
  },
  {
   "cell_type": "markdown",
   "metadata": {},
   "source": [
    "대회에 참가하기 위해 가장 먼저 해야 할 일은 데이터 받기.  \n",
    "데이터를 받는 방법은 데이터 탭에서 직접 받거나 캐글 API를 사용해 받는 두 가지 방법.  \n",
    "\n",
    "api를 사용하려면 아나콘다로 캐글 API를 설치해야 한다. \n",
    "\n",
    "`conda install kaggle`"
   ]
  },
  {
   "cell_type": "code",
   "execution_count": null,
   "metadata": {},
   "outputs": [],
   "source": []
  }
 ],
 "metadata": {
  "kernelspec": {
   "display_name": "Python 3",
   "language": "python",
   "name": "python3"
  },
  "language_info": {
   "codemirror_mode": {
    "name": "ipython",
    "version": 3
   },
   "file_extension": ".py",
   "mimetype": "text/x-python",
   "name": "python",
   "nbconvert_exporter": "python",
   "pygments_lexer": "ipython3",
   "version": "3.7.4"
  }
 },
 "nbformat": 4,
 "nbformat_minor": 4
}
