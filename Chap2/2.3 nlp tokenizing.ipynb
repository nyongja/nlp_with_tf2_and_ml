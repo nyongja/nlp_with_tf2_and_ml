{
 "cells": [
  {
   "cell_type": "markdown",
   "metadata": {},
   "source": [
    "## 자연어 토크나이징 도구\n",
    "\n",
    "자연어 처리를 하기 위해서 우선 텍스트에 대한 정보를 단위별로 나누는 것이 일반적.  \n",
    "e.g.) 영화 리뷰 내용 예측 -> 한 문장을 단어 단위로 쪼개서 분석  \n",
    "\n",
    "이처럼 예측해야 할 입력 정보를 하나의 특정 기본 단위로 자르는 것을 **토크나이징**이라고 함.  \n",
    "토크나이징을 할 때 언어의 특징에 따라 처리 방법이 달라짐."
   ]
  },
  {
   "cell_type": "markdown",
   "metadata": {},
   "source": [
    "### 영어 토크나이징 라이브러리\n",
    "\n",
    "영어의 경우 NLTK(Natural Language Toolkit)와 Spacy가 토크나이징에 많이 쓰이는 대표적인 라이브러리.  \n",
    "이 두 라이브러리는 영어 텍스트에 대해 전처리 및 분석을 하기 위한 도구로 유명.  \n",
    "\n",
    "#### NLTK  \n",
    "NLTK는 파이썬에서 영어 텍스트 전처리 작업을 하는 데 많이 쓰이는 라이브러리이다.  \n",
    "50여 개가 넘는 말뭉치 리소스를 활용해 영어 텍스트를 분석할 수 있게 제공한다.  \n",
    "직관적으로 함수를 쉽게 사용할 수 있게 구성돼 있어 빠르게 텍스트 전처리를 할 수 있다.  \n",
    "\n",
    "#### 라이브러리 설치"
   ]
  },
  {
   "cell_type": "code",
   "execution_count": null,
   "metadata": {},
   "outputs": [],
   "source": [
    "conda install nltk"
   ]
  },
  {
   "cell_type": "markdown",
   "metadata": {},
   "source": [
    "추가로 설치해야하는 것이 하나 더 있음.  \n",
    "NLTK만 설치한다고 바로 토크나이징할 수 있는 것이 아니라 **말뭉치(corpus)** 를 내려받아야 연동 가능.  \n",
    "\n",
    "말뭉치를 설치하려면 "
   ]
  },
  {
   "cell_type": "code",
   "execution_count": 1,
   "metadata": {},
   "outputs": [
    {
     "name": "stdout",
     "output_type": "stream",
     "text": [
      "showing info https://raw.githubusercontent.com/nltk/nltk_data/gh-pages/index.xml\n"
     ]
    },
    {
     "data": {
      "text/plain": [
       "True"
      ]
     },
     "execution_count": 1,
     "metadata": {},
     "output_type": "execute_result"
    }
   ],
   "source": [
    "import nltk\n",
    "nltk.download()"
   ]
  },
  {
   "cell_type": "markdown",
   "metadata": {},
   "source": [
    "* all-corpora : 텍스트 언어 분석을 위한 말뭉치 데이터셋\n",
    "* book : NTLK 언어 분석을 하기 위한 예시 데이터셋"
   ]
  },
  {
   "cell_type": "markdown",
   "metadata": {},
   "source": [
    "#### 토크나이징\n",
    "**토크나이징** 이란?  \n",
    "텍스트에 대해 특정 기준 단위로 문장을 나누는 것.  \n",
    "e.g) 문장을 단어 기준으로 나누거나 전체 글을 문장 단위로 나누는 것들을 의미 -> 한글의 경우 'ㄱ', 'ㄴ' 등으로 나누는 것도 하나의 토큰.  \n",
    "\n",
    "파이썬에서 간단하게 split 함수를 써서 해결할 수 도 있으나 라이브러리를 사용하면 훨씬 더 간편하고 효과적!"
   ]
  },
  {
   "cell_type": "markdown",
   "metadata": {},
   "source": [
    "#### 단어 단위 토크나이징\n",
    "라이브러리의 tokenize 모듈에서 word_tokenize를 불러온 후 사용하면 됨."
   ]
  },
  {
   "cell_type": "code",
   "execution_count": 2,
   "metadata": {},
   "outputs": [
    {
     "name": "stdout",
     "output_type": "stream",
     "text": [
      "['Natural', 'language', 'processing', '(', 'NLP', ')', 'is', 'a', 'subfield', 'of', 'computer', 'science', ',', 'information', 'engineering', ',', 'and', 'artificial', 'intelligence', 'concerned', 'with', 'the', 'interactions', 'between', 'computers', 'and', 'human', '(', 'natural', ')', 'languages', ',', 'in', 'particular', 'how', 'to', 'program', 'computers', 'to', 'process', 'and', 'analyze', 'large', 'amounts', 'of', 'natural', 'language', 'data', '.']\n"
     ]
    }
   ],
   "source": [
    "from nltk.tokenize import word_tokenize\n",
    "sentence = \"Natural language processing (NLP) is a subfield of computer science, information engineering, and artificial intelligence concerned with the interactions between computers and human (natural) languages, in particular how to program computers to process and analyze large amounts of natural language data.\"\n",
    "\n",
    "print(word_tokenize(sentence))"
   ]
  },
  {
   "cell_type": "markdown",
   "metadata": {},
   "source": [
    "결과를 보면 모두 단어로 구분돼 있고, 특수 문자의 경우 따로 구분된 것을 확인 가능.  \n",
    "이렇게 별다른 설정 없이 함수에 데이터를 적용하기만 해도 간단하게 토크나이징된 결과를 받을 수 있다.  \n",
    "이제 문장 단위로도 잘라보자.  "
   ]
  },
  {
   "cell_type": "markdown",
   "metadata": {},
   "source": [
    "#### 문장 단위 토크나이징\n",
    "문단 -> 문장 -> 단어로 쪼개야하는 경우 등에서 주로 사용.  \n",
    "NLTK 라이브러리를 통해 이 역시 쉽게 가능하다."
   ]
  },
  {
   "cell_type": "code",
   "execution_count": 3,
   "metadata": {},
   "outputs": [
    {
     "name": "stdout",
     "output_type": "stream",
     "text": [
      "['Natural language processing (NLP) is a subfield of computer science, information engineering, and artificial intelligence concerned with the interactions between computers and human (natural) languages, in particular how to program computers to process and analyze large amounts of natural language data.', 'Challenges in natural language processing frequently involve speech recognition, natural language understanding, and natural language generation.']\n"
     ]
    }
   ],
   "source": [
    "from nltk.tokenize import sent_tokenize\n",
    "paragraph = \"Natural language processing (NLP) is a subfield of computer science, information engineering, and artificial intelligence concerned with the interactions between computers and human (natural) languages, in particular how to program computers to process and analyze large amounts of natural language data. Challenges in natural language processing frequently involve speech recognition, natural language understanding, and natural language generation.\"\n",
    "\n",
    "print(sent_tokenize(paragraph))"
   ]
  },
  {
   "cell_type": "markdown",
   "metadata": {},
   "source": [
    "뿐만 아니라 NLTK 라이브러리의 경우 토크나이징 외에도 자연어 처리에 유용한 기능들을 제공.  \n",
    "대표적으로 불용어(the, is와 같이 큰 의미를 가지지 않는 단어)에 대한 불용어 사전이 내장돼 있어 텍스트 전처리 시 불용어를 간단하게 제거가 가능.  \n",
    "\n",
    "이제 또 다른 토크나이징 도구인 **Spacy**에 대해 알아보자.  \n",
    "Spacy도 NLTK와 마찬가지로 매우 간단하게 텍스트를 토크나이징할 수 있는 라이브러리이다. \n"
   ]
  },
  {
   "cell_type": "markdown",
   "metadata": {},
   "source": [
    "#### Spacy\n",
    "Spacy 역시 NLTK와 같은 오픈소스 라이브러리이다.  \n",
    "주로 교육, 연구 목적이 아닌 상업용 목적이라는 점에서 NLTK와 다른 목적으로 만들어진 라이브러리.  \n",
    "현재 영어 포함 8개 국어에 대한 자연어 전처리 모듈을 제공하고, 빠른 속도로 전처리할 수 있음.  \n",
    "\n",
    "또한 쉽게 설치하고 원하는 언어에 대한 전처리를 한 번에 해결할 수 있다는 장점이 있으며, 특히 딥러닝 언어 모델의 개발도 지원하고 있어 매력적.  "
   ]
  },
  {
   "cell_type": "markdown",
   "metadata": {},
   "source": [
    "#### 라이브러리 설치"
   ]
  },
  {
   "cell_type": "code",
   "execution_count": 6,
   "metadata": {},
   "outputs": [
    {
     "name": "stdout",
     "output_type": "stream",
     "text": [
      "Collecting package metadata (current_repodata.json): ...working... done\n",
      "Note: you may need to restart the kernel to use updated packages.\n"
     ]
    },
    {
     "name": "stderr",
     "output_type": "stream",
     "text": [
      "\n",
      "\n",
      "==> WARNING: A newer version of conda exists. <==\n",
      "  current version: 4.8.3\n",
      "  latest version: 4.9.2\n",
      "\n",
      "Please update conda by running\n",
      "\n",
      "    $ conda update -n base -c defaults conda\n",
      "\n",
      "\n",
      "\n",
      "RemoveError: 'requests' is a dependency of conda and cannot be removed from\n",
      "conda's operating environment.\n",
      "\n"
     ]
    },
    {
     "name": "stdout",
     "output_type": "stream",
     "text": [
      "\n",
      "Solving environment: ...working... \n",
      "The environment is inconsistent, please check the package plan carefully\n",
      "The following packages are causing the inconsistency:\n",
      "\n",
      "  - defaults/win-64::anaconda-client==1.7.2=py37_0\n",
      "  - defaults/win-64::anaconda==custom=py37_1\n",
      "  - defaults/win-64::anaconda-navigator==1.9.7=py37_0\n",
      "  - defaults/noarch::anaconda-project==0.8.4=py_0\n",
      "  - defaults/win-64::astropy==4.0.1.post1=py37he774522_1\n",
      "  - defaults/win-64::bkcharts==0.2=py37_0\n",
      "  - defaults/win-64::bokeh==2.0.2=py37_0\n",
      "  - defaults/win-64::bottleneck==1.3.2=py37h2a96729_0\n",
      "  - defaults/win-64::conda==4.8.3=py37_0\n",
      "  - defaults/win-64::conda-build==3.18.9=py37_3\n",
      "  - defaults/win-64::cryptography==2.9.2=py37h7a1dbc1_0\n",
      "  - fastai/win-64::cython-blis==0.2.4=py37hfa6e2cd_1\n",
      "  - defaults/noarch::dask==2.16.0=py_0\n",
      "  - fastai/noarch::fastai==1.0.60=1\n",
      "  - defaults/win-64::h5py==2.10.0=py37h5e291fa_0\n",
      "  - defaults/noarch::imageio==2.8.0=py_0\n",
      "  - defaults/noarch::jupyterlab==1.2.6=pyhf63ae98_0\n",
      "  - defaults/noarch::jupyterlab_server==1.1.4=py_0\n",
      "  - defaults/win-64::matplotlib==3.1.3=py37_0\n",
      "  - defaults/win-64::matplotlib-base==3.1.3=py37h64f37c6_0\n",
      "  - defaults/win-64::mkl_fft==1.0.15=py37h14836fe_0\n",
      "  - defaults/win-64::mkl_random==1.1.0=py37h675688f_0\n",
      "  - defaults/win-64::numba==0.49.1=py37h47e9c7a_0\n",
      "  - defaults/win-64::numexpr==2.7.1=py37h25d0782_0\n",
      "  - defaults/win-64::numpy==1.18.1=py37h93ca92e_0\n",
      "  - defaults/noarch::numpydoc==0.9.2=py_0\n",
      "  - defaults/win-64::pandas==1.0.3=py37h47e9c7a_0\n",
      "  - defaults/noarch::paramiko==2.7.1=py_0\n",
      "  - defaults/win-64::patsy==0.5.1=py37_0\n",
      "  - defaults/win-64::pyopenssl==19.1.0=py37_0\n",
      "  - defaults/win-64::pytables==3.6.1=py37h1da0976_0\n",
      "  - defaults/win-64::pytest-arraydiff==0.3=py37h39e3cac_0\n",
      "  - defaults/noarch::pytest-astropy==0.8.0=py_0\n",
      "  - defaults/noarch::pytest-doctestplus==0.5.0=py_0\n",
      "  - pytorch/win-64::pytorch==1.2.0=py3.7_cuda100_cudnn7_1\n",
      "  - defaults/win-64::pywavelets==1.1.1=py37he774522_0\n",
      "  - defaults/win-64::scikit-image==0.16.2=py37h47e9c7a_0\n",
      "  - defaults/win-64::scikit-learn==0.22.1=py37h6288b17_0\n",
      "  - defaults/win-64::scipy==1.4.1=py37h9439919_0\n",
      "  - defaults/noarch::seaborn==0.10.1=py_0\n",
      "  - defaults/win-64::shapely==1.7.0=py37h210f175_0\n",
      "  - fastai/win-64::spacy==2.1.8=py37he980bc4_0\n",
      "  - defaults/noarch::sphinx==3.0.3=py_0\n",
      "  - defaults/win-64::spyder==4.1.3=py37_0\n",
      "  - defaults/win-64::statsmodels==0.11.1=py37he774522_0\n",
      "  - fastai/win-64::thinc==7.0.8=py37he980bc4_0\n",
      "  - pytorch/win-64::torchvision==0.4.0=py37_cu100\n",
      "  - defaults/win-64::_anaconda_depends==2020.02=py37_0\n",
      "  - defaults/win-64::_ipyw_jlab_nb_ext_conf==0.1.0=py37_0\n",
      "done\n",
      "\n",
      "## Package Plan ##\n",
      "\n",
      "  environment location: C:\\Users\\nyong\\Anaconda3\n",
      "\n",
      "  added / updated specs:\n",
      "    - spacy\n",
      "\n",
      "\n",
      "The following NEW packages will be INSTALLED:\n",
      "\n",
      "  beautifulsoup4     pkgs/main/noarch::beautifulsoup4-4.9.3-pyhb0f4dca_0\n",
      "  brotlipy           pkgs/main/win-64::brotlipy-0.7.0-py37h2bbff1b_1003\n",
      "  docutils           pkgs/main/win-64::docutils-0.16-py37_1\n",
      "  idna               pkgs/main/noarch::idna-2.10-py_0\n",
      "  nltk               pkgs/main/noarch::nltk-3.5-py_0\n",
      "  numpy-base         pkgs/main/win-64::numpy-base-1.19.2-py37ha3acd2a_0\n",
      "  regex              pkgs/main/win-64::regex-2020.11.13-py37h2bbff1b_0\n",
      "  requests           pkgs/main/noarch::requests-2.25.1-pyhd3eb1b0_0\n",
      "  urllib3            pkgs/main/noarch::urllib3-1.26.2-pyhd3eb1b0_0\n",
      "\n",
      "The following packages will be UPDATED:\n",
      "\n",
      "  ca-certificates                                2020.1.1-0 --> 2020.12.8-haa95532_0\n",
      "  certifi                                 2020.4.5.1-py37_0 --> 2020.12.5-py37haa95532_0\n",
      "  numpy                               1.18.1-py37h93ca92e_0 --> 1.19.2-py37hadc3359_0\n",
      "  openssl                                 1.1.1g-he774522_0 --> 1.1.1i-h2bbff1b_0\n",
      "\n",
      "\n",
      "Preparing transaction: ...working... done\n",
      "Verifying transaction: ...working... failed\n"
     ]
    }
   ],
   "source": [
    "conda install spacy"
   ]
  },
  {
   "cell_type": "markdown",
   "metadata": {},
   "source": [
    "NLTK와 마찬가지로 영어에 대한 텍스트를 전처리하려면 언어 데이터 자료를 별도로 내려받아야 한다."
   ]
  },
  {
   "cell_type": "markdown",
   "metadata": {},
   "source": [
    "#### Spacy 토크나이징\n",
    "NLTK 라이브러리에서 단어 단위와 문장 단위의 토크나이징 함수가 서로 구분돼 있었음.  \n",
    "하지만 Spacy에서는 두 경우 모두 동일한 모듈을 통해 토크나이징한다.  "
   ]
  },
  {
   "cell_type": "code",
   "execution_count": 14,
   "metadata": {},
   "outputs": [],
   "source": [
    "import spacy"
   ]
  },
  {
   "cell_type": "markdown",
   "metadata": {},
   "source": [
    "Spacy를 사용할 때는 토크나이징 라이브러리를 불러와야 한다.  "
   ]
  },
  {
   "cell_type": "code",
   "execution_count": 16,
   "metadata": {},
   "outputs": [],
   "source": [
    "nlp = spacy.load('en_core_web_sm')\n",
    "sentence = \"Natural language processing (NLP) is a subfield of computer science, information engineering, and artificial intelligence concerned with the interactions between computers and human (natural) languages, in particular how to program computers to process and analyze large amounts of natural language data.\"\n",
    "\n",
    "doc = nlp(sentence)"
   ]
  },
  {
   "cell_type": "markdown",
   "metadata": {},
   "source": [
    "먼저 spacy.load를 통해 토크나이징할 객체를 생성해서 nlp 변수에 할당.  \n",
    "그리고 토크나이징할 텍스트를 sentence에 할당하여 nlp(sentence)를 실행해 nlp 객체에 대해 호출하자.  \n",
    "그러고 나면 텍스트에 대해 구문 분석 객체를 반환하는데 이를 doc 변수에 할당한다.  \n",
    "\n",
    "이제 doc 객체를 가지고 입력한 텍스트에 대한 단어 토크나이징과 문장 토크나이징을 할 수 있다.  "
   ]
  },
  {
   "cell_type": "code",
   "execution_count": 24,
   "metadata": {},
   "outputs": [
    {
     "name": "stdout",
     "output_type": "stream",
     "text": [
      "['Natural', 'language', 'processing', '(', 'NLP', ')', 'is', 'a', 'subfield', 'of', 'computer', 'science', ',', 'information', 'engineering', ',', 'and', 'artificial', 'intelligence', 'concerned', 'with', 'the', 'interactions', 'between', 'computers', 'and', 'human', '(', 'natural', ')', 'languages', ',', 'in', 'particular', 'how', 'to', 'program', 'computers', 'to', 'process', 'and', 'analyze', 'large', 'amounts', 'of', 'natural', 'language', 'data', '.']\n",
      "['Natural language processing (NLP) is a subfield of computer science, information engineering, and artificial intelligence concerned with the interactions between computers and human (natural) languages, in particular how to program computers to process and analyze large amounts of natural language data.']\n"
     ]
    }
   ],
   "source": [
    "word_tokenized_sentence = [token.text for token in doc]\n",
    "sentence_tokenized_list = [sent.text for sent in doc.sents]\n",
    "print(word_tokenized_sentence)\n",
    "print(sentence_tokenized_list)"
   ]
  },
  {
   "cell_type": "markdown",
   "metadata": {},
   "source": [
    "토크나이징 시 doc 객체를 활용해 [token.text for token in doc]과 같이 리스트 컴프리헨션을 활용하면 간단하게 토크나이징 결과를 확인할 수 있다.  \n",
    "doc 객체에 대해 반복문을 사용하면 단어 기준 token이 나오고, doc.sents 값에 대해 반복문을 사용하면 문장 기준 토크나이징이 된다. \n",
    "\n",
    "NLTK는 함수를 통해 토크나이징을 했지만 Spacy는 객체를 생성하는 방식으로 구현돼 있다.  \n",
    "이는 객체를 통해 단순히 토크나이징 뿐 아니라 갖가지 다른 자연어 전처리 기능을 제공할 수 있기 때ㅜㅁㄴ.  \n",
    "\n",
    "하지만 이러한 영어 토크나이징 도구는 한국어에 적용할 수 없다는 문제점!!"
   ]
  },
  {
   "cell_type": "markdown",
   "metadata": {},
   "source": [
    "### 한글 토크나이징 라이브러리\n",
    "각 언어마다 모두 특징이 달라 천편일률적으로 동일한 방법을 적용하기는 어렵다.  \n",
    "한글에도 NLTK나 Spacy 같은 도구를 사용할 수 있으면 좋겠지만 언어 특성상 영어를 위한 도구를 사용하기에는 적합하지 않다.  \n",
    "\n",
    "\n",
    "한글 자연어 처리에 많이 사용하는 파이썬 라이브러리는 **KoNLPy** 이다.  \n",
    "이는 형태소 분석으로 형태소 단위의 토크나이징을 가능하게 할뿐만 아니라 구문 분석을 가능하게 해서 언어 분석을 하는 데 유용한 도구다."
   ]
  },
  {
   "cell_type": "markdown",
   "metadata": {},
   "source": [
    "#### KoNLPy\n",
    "\n",
    "한글 자연어 처리를 쉽고 간결하게 처리할 수 있도록 만들어진 오픈소스 라이브러리다.  \n",
    "또한 국내에 이미 만들어져 사용되고 있는 여러 형태소 분석기를 사용할 수 있게 허용한다.  \n",
    "일반적인 어절 단위에 대한 토크나이징은 NLTK로 충분히 가능하므로 여기에서는 형태소 단위에 대한 토크나이징에 대해 알아보겠다."
   ]
  },
  {
   "cell_type": "markdown",
   "metadata": {},
   "source": [
    "먼저 java를 설치한 후 환경변수 설정을 한다.  \n",
    "환경변수 설정이 끝났다면 이제 0.5.7 번전 이상의 **JPype1** 을 설치해야 한다.  \n",
    "이는 KoNLPy에서 필요하며 파이썬에서 자바 클래스를 사용할 수 있도록 만들어주는 라이브러리다.  \n",
    "해당하는 Jpype버젼을 다운받고 해당 경로에서 다음 명령어로 설치한다.\n",
    "\n",
    "> pip install JPype-   -  - .whl\n",
    "\n",
    "여기까지 진행했다면 KoNLPy를 설치하기 위한 준비가 모두 끝났다.\n",
    "\n",
    "> pip install konlpy\n",
    "\n",
    "를 입력하면 설치가 진행된다. "
   ]
  },
  {
   "cell_type": "code",
   "execution_count": 25,
   "metadata": {},
   "outputs": [],
   "source": [
    "import konlpy"
   ]
  },
  {
   "cell_type": "markdown",
   "metadata": {},
   "source": [
    "#### 형태소 단위 토크나이징\n",
    "\n",
    "한글 테스트의 경우 형태소 단위 토크나이징이 필요할 때가 있따.  \n",
    "각 형태소 분석기벼로 분석한 결과는 다를 수 있다.  \n",
    "각 형태소 분석기는 클래스 형태로 돼 있고, 이를 객체로 생성한 후 메서드를 호출해서 토크나이징할 수 있다.  "
   ]
  },
  {
   "cell_type": "markdown",
   "metadata": {},
   "source": [
    "#### 형태소 분석 및 품사 태깅\n",
    "**형태소** 란? \n",
    "가장 작은 단위로서 더쪼개지면 의미를 상실하는 것들을 말함.  \n",
    "따라서 형태소 분석이란 의미를 가지는 단위를 기준으로 문장을 살펴보는 것을 의미.  \n",
    "\n",
    "KoNLPy이전에 C, C++, 자바 언어를 통해 형태소 분석을 할 수 있는 좋은 라이브러리들이 있었다.  \n",
    "KoNLPy는 이러한 기존의 형태소 분석기들을 파이썬 라이브러리로 통합해서 사용할 수 있게 됐고, 그 결과, 한국어 구문 분석을 쉽게 할 수 있게 됐다.  \n",
    "\n",
    "KoNLPy에는 다양한 형태소 분석기들이 객체 형태로 포함돼 있으며, 각 형태소 분석기의 목록은 다음과 같다. \n",
    "- Hannanum\n",
    "- Kkma\n",
    "- Komoran\n",
    "- Mecab\n",
    "- Okt(Twitter)\n",
    "\n",
    "위 객체들은 모두 동일하게 형태소 분석 기능을 제공하는데, 각기 성능이 조금씩 다르므로 직접 비교해보고 자신의 데이터를 가장 잘 분석하는 분석기를 사용하길 권장.  \n",
    "참고로 Mecab은 윈도우에서는 사용할 수 없음.  \n",
    "\n",
    "Okt를 예로 들어 설명해보겠다.\n",
    "Okt의 경우 원래 이름이 Twitter였으나 0.5.0 버전 이후로 이름이 바뀜.  "
   ]
  },
  {
   "cell_type": "code",
   "execution_count": 26,
   "metadata": {},
   "outputs": [],
   "source": [
    "from konlpy.tag import Okt"
   ]
  },
  {
   "cell_type": "markdown",
   "metadata": {},
   "source": [
    "Okt를 불러온 후, Okt를 사용하려면 Okt 객체를 먼저 생성해야 한다. "
   ]
  },
  {
   "cell_type": "code",
   "execution_count": 27,
   "metadata": {},
   "outputs": [],
   "source": [
    "okt = Okt()"
   ]
  },
  {
   "cell_type": "markdown",
   "metadata": {},
   "source": [
    "Okt 객체는 다음과 같은 4개의 함수를 제공한다.\n",
    "\n",
    "1) okt.morphs()\n",
    "  : 텍스트를 형태소 단위로 나눔. 옵션으로는 norm과 stm이 있음.  \n",
    "    각각 True 혹은 False 값을 받으며, norm은 normalize의 약자로 문장을 정규화하는 역할, stem은 각 단어에서 어간을 추출하는 기능.  \n",
    "    각각 True로 설정하면 각 기능이 적용된다.  옵션을 지정하지 않으면 기본값은 둘다 False로 설정.\n",
    "    \n",
    "2) okt.nouns()\n",
    "  : 텍스트에서 명사만 뽑아냄.\n",
    " \n",
    "3) okt.phrases()\n",
    "  : 텍스트에서 어절을 뽑아냄.\n",
    "  \n",
    "4) okt.pos()\n",
    "  : 위의 세 함수는 어간 / 명사 / 어절 등을 추출해내는 추출기로 동작했다면 pos 함수는 가 ㄱ품사를 태깅하는 역할.  \n",
    "    품사를 태깅한다는 것은 주어진 텍스트를 형태소 단위로 나누고, 나눠진 각 형태소를 그에 해당하는 품사와 함께 리스트화하는 것으 ㄹ의미.  \n",
    "    옵션으로는 morphs와 마찬가지로 norm, stem이 있고 추가적으로 join 옵션이 있음.  \n",
    "    join 옵션 값을 True로 설정 시 나눠진 형태소와 품사를 '형태소/품사'형태로 같이 붙여서 리스트화함."
   ]
  },
  {
   "cell_type": "code",
   "execution_count": 29,
   "metadata": {},
   "outputs": [
    {
     "name": "stdout",
     "output_type": "stream",
     "text": [
      "['한글', '자연어', '처리', '는', '재밌다', '이제', '부터', '열심히', '해야지', 'ㅎㅎㅎ']\n",
      "['한글', '자연어', '처리', '는', '재밌다', '이제', '부터', '열심히', '하다', 'ㅎㅎㅎ']\n"
     ]
    }
   ],
   "source": [
    "text = \"한글 자연어 처리는 재밌다 이제부터 열심히 해야지ㅎㅎㅎ\"\n",
    "\n",
    "print(okt.morphs(text))\n",
    "print(okt.morphs(text, stem = True)) # 형태소 단위로 나눈 후 어간 추출"
   ]
  },
  {
   "cell_type": "markdown",
   "metadata": {},
   "source": [
    "어간 추출 시 '해야지'의 어간인 '하다'로 추출된 것을 확인할 수 있음.  \n",
    "이제 앞서 정의한 문장에서 명사와 어절을 추출해보자."
   ]
  },
  {
   "cell_type": "code",
   "execution_count": 30,
   "metadata": {},
   "outputs": [
    {
     "name": "stdout",
     "output_type": "stream",
     "text": [
      "['한글', '자연어', '처리', '이제']\n",
      "['한글', '한글 자연어', '한글 자연어 처리', '이제', '자연어', '처리']\n"
     ]
    }
   ],
   "source": [
    "print(okt.nouns(text))\n",
    "print(okt.phrases(text))"
   ]
  },
  {
   "cell_type": "markdown",
   "metadata": {},
   "source": [
    "nouns함수 사용시 명사만 추출.  \n",
    "phrases 함수의 경우 어절 단위로 나눠서 추출. \n",
    "\n",
    "이제 품사 태깅 pos를 해보자."
   ]
  },
  {
   "cell_type": "code",
   "execution_count": 31,
   "metadata": {},
   "outputs": [
    {
     "name": "stdout",
     "output_type": "stream",
     "text": [
      "[('한글', 'Noun'), ('자연어', 'Noun'), ('처리', 'Noun'), ('는', 'Josa'), ('재밌다', 'Adjective'), ('이제', 'Noun'), ('부터', 'Josa'), ('열심히', 'Adverb'), ('해야지', 'Verb'), ('ㅎㅎㅎ', 'KoreanParticle')]\n",
      "['한글/Noun', '자연어/Noun', '처리/Noun', '는/Josa', '재밌다/Adjective', '이제/Noun', '부터/Josa', '열심히/Adverb', '해야지/Verb', 'ㅎㅎㅎ/KoreanParticle']\n"
     ]
    }
   ],
   "source": [
    "print(okt.pos(text))\n",
    "print(okt.pos(text, join = True)) # 형태소와 품사 붙여서 리스트화"
   ]
  },
  {
   "cell_type": "markdown",
   "metadata": {},
   "source": [
    "#### KoNLPy 데이터\n",
    "\n",
    "KoNLPy 라이브러리는 한글 자연어 처리에 활용할 수 있는 한글 데이터를 포함하고 있다.  \n",
    "따라서 라이브러리를 통해 데이터를 바로 사용할 수 있으며, 데이터의 종류는 다음과 같다. \n",
    "\n",
    "- Kolaw : 한국 법률 말뭉치. 'constitution.txt' 파일로 저장돼 있다.\n",
    "- kobill : 대하님ㄴ국 국회 의안 말뭉치. 각 id 값을 가지는 의안으로 구성돼 있고 파일은 '1809890.txt'부터 '1809899.txt'까지 구성돼 있음."
   ]
  },
  {
   "cell_type": "code",
   "execution_count": 32,
   "metadata": {},
   "outputs": [],
   "source": [
    "from konlpy.corpus import kolaw\n",
    "from konlpy.corpus import kobill"
   ]
  },
  {
   "cell_type": "markdown",
   "metadata": {},
   "source": [
    "법률 말뭉치를 불러와보자.  \n",
    "긴 말뭉치이므로 앞의 20개까지만 불러온다."
   ]
  },
  {
   "cell_type": "code",
   "execution_count": 33,
   "metadata": {},
   "outputs": [
    {
     "data": {
      "text/plain": [
       "'대한민국헌법\\n\\n유구한 역사와 전통에 '"
      ]
     },
     "execution_count": 33,
     "metadata": {},
     "output_type": "execute_result"
    }
   ],
   "source": [
    "kolaw.open('constitution.txt').read()[:20]"
   ]
  },
  {
   "cell_type": "markdown",
   "metadata": {},
   "source": [
    "국회 의안 말뭉치도 불러오자.  \n",
    "여러 의안 중에서 1809890.txt 의안을 불러와보자."
   ]
  },
  {
   "cell_type": "code",
   "execution_count": 34,
   "metadata": {},
   "outputs": [
    {
     "data": {
      "text/plain": [
       "'지방공무원법 일부개정법률안\\n\\n(정의화의원 대표발의 )\\n\\n 의 안\\n 번 호\\n\\n9890\\n\\n발의연월일 : 2010.  11.  12.  \\n\\n발  의  자 : 정의화․이명수․김을동 \\n\\n이사철․여상규․안규백\\n\\n황영철․박영아․김정훈\\n\\n김학송 의원(10인)\\n\\n제안이유 및 주요내용\\n\\n  초등학교 저학년의 경우에도 부모의 따뜻한 사랑과 보살핌이 필요\\n\\n한 나이이나, 현재 공무원이 자녀를 양육하기 위하여 육아휴직을 할 \\n\\n수 있는 자녀의 나이는 만 6세 이하로 되어 있어 초등학교 저학년인 \\n\\n자녀를 돌보기 위해서는 해당 부모님은 일자리를 그만 두어야 하고 \\n\\n이는 곧 출산의욕을 저하시키는 문제로 이어질 수 있을 것임.\\n\\n  따라서 육아휴직이 가능한 자녀의 연령을 만 8세 이하로 개정하려\\n\\n는 것임(안 제63조제2항제4호).\\n\\n- 1 -\\n\\n\\x0c법률  제        호\\n\\n지방공무원법 일부개정법률안\\n\\n지방공무원법 일부를 다음과 같이 개정한다.\\n\\n제63조제2항제4호 중 “만 6세 이하의 초등학교 취학 전 자녀를”을 “만 \\n\\n8세 이하(취학 중인 경우에는 초등학교 2학년 이하를 말한다)의 자녀를”\\n\\n로 한다.\\n\\n부      칙\\n\\n이 법은 공포한 날부터 시행한다.\\n\\n- 3 -\\n\\n\\x0c신 ·구조문대비표\\n\\n현      행\\n\\n개   정   안\\n\\n제63조(휴직) ① (생  략)\\n\\n제63조(휴직) ① (현행과 같음)\\n\\n  ② 공무원이 다음 각 호의 어\\n\\n  ② -------------------------\\n\\n느 하나에 해당하는 사유로 휴\\n\\n----------------------------\\n\\n직을 원하면 임용권자는 휴직\\n\\n----------------------------\\n\\n을 명할 수 있다. 다만, 제4호\\n\\n-------------.---------------\\n\\n의 경우에는 대통령령으로 정\\n\\n----------------------------\\n\\n하는 특별한 사정이 없으면 휴\\n\\n----------------------------\\n\\n직을 명하여야 한다.\\n\\n--------------.\\n\\n  1. ∼ 3. (생  략)\\n\\n  1. ∼ 3. (현행과 같음)\\n\\n  4. 만 6세 이하의 초등학교 취\\n\\n  4. 만 8세 이하(취학 중인 경우\\n\\n학 전 자녀를 양육하기 위하\\n\\n에는 초등학교 2학년 이하를 \\n\\n여 필요하거나 여자공무원이 \\n\\n말한다)의 자녀를 ----------\\n\\n임신 또는 출산하게 되었을 \\n\\n---------------------------\\n\\n때\\n\\n---------------------------\\n\\n  5.⋅6. (생  략)\\n\\n  ③⋅④ (생  략)\\n\\n--------\\n\\n  5.⋅6. (현행과 같음)\\n\\n  ③⋅④ (현행과 같음)\\n\\n- 5 -\\n\\n\\x0c지방공무원법 일부개정법률안 등 비용추계서 미첨부사유서\\n1.  재정수반요인\\n\\n개정안에서 ｢국가공무원법｣  제71조제2항제4호 중 국가공무원의 육아\\n\\n휴직 가능 자녀의 연령을 만6세 이하에서 만8세 이하로 하고, ｢지방공\\n\\n무원법｣ 제63조제2항제4호 중 지방공무원의 육아휴직 가능 자녀의 연\\n\\n령을 만6세 이하에서 만8세 이하로 하고, ｢교육공무원법｣ 제44조제1항\\n\\n제7조 중 교육공무원의 육아휴직 가능 자녀의 연령을 만6세 이하에서 \\n\\n만8세 이하로 하고, ｢남녀고용평등과 일․가정 양립지원에 관한 법률｣ \\n\\n제19조제1항 중 근로자 육아휴직 가능 자녀연령을 만6세 이하에서 만\\n\\n8세 이하로 조정함에 따라 추가 재정소요가 예상됨.\\n\\n2.  미첨부  근거  규정\\n｢의안의 비용추계에 관한 규칙｣ 제3조제1항 단서 중 제1호(예상되는 비용이 연평균  10억원 미만\\n이거나  한시적인  경비로서  총  30억원  미만인  경우)에  해당함.\\n\\n3.  미첨부  사유\\n\\n개정안에서 국가․지방․교육공무원 및 근로자가 육아휴직을 신청할 \\n\\n수 있는 자녀의 연령을 만6세 이하에서 만8세 이하로 상향조정함에 \\n\\n따라 추가 재정소요가 예상된다. 동 법률 개정안이 2011년에 시행된다\\n\\n고 가정한 경우, 2010년 현재 자녀의 연령이 7세이고 육아휴직을 신청\\n\\n- 7 -\\n\\n\\x0c- 8 -\\n\\n하지 않은 국가․지방․교육공무원 및 근로자가 대상이 된다.\\n\\n대상연령의 확대됨에 따라 육아휴직신청자의 수가 어느 정도 늘어날 \\n\\n것으로 예상된다. 이 경우 발생하는 비용은 현행법에 따르면 월50만원\\n\\n이나 현재 관련법령 개정이 추진되고 있으며, 이에 따라 2011년에는 \\n\\n육아휴직자가 지급받는 월급여액에 비례하여 육아휴직급여가 지급되\\n\\n기 때문에 법령개정을 가정하고 추계한다. 이러한 경우 육아휴직급여\\n\\n액은 육아휴직자가 지급받는 월급여의 40%에 해당한다. 육아휴직자가 \\n\\n발생한 경우 발생하는 비용은 대체인력 고용인건비와 육아휴직자가 \\n\\n받는 월급여액의 40%이다. 이와 대비하여 육아휴직자에게 지급하던 \\n\\n임금은 더 이상 발생하지 않는다. 따라서 실제 발생하는 순비용은 육\\n\\n아휴직자에게 지급하던 월 급여액과 연령 확대에 따라 발생하는 비용\\n\\n인 육아휴직자가 받던 월급여액의 40%와 대체인력 고용인건비의 차\\n\\n액인데 이 값이 0보다 크면 추가 재정소요는 발생하지 않는다고 볼 \\n\\n수 있다.\\n\\n추가비용 발생여부를 정확하게 알아보기 위하여 비용에 대한 수리모\\n\\n델을 만들고 이에 따라 비용발생 여부를 알아보기로 하자. 모델에 사\\n\\n용되는 변수를 다음과 같이 정의한다.\\n\\n발생비용 : N×p×X + N×육아휴직급여액 - N×P\\n\\nN\\n\\nP\\n\\n: 육아휴직대상자의 수\\n\\n: 육아휴직대상자의 월급여액\\n\\n\\x0cp\\n\\nX\\n\\n: 육아휴직자가 발생한 경우 대체 고용할 확률\\n\\n: 대체 고용한 인력에게 지급하는 월급여액\\n\\n위의 수식에서 육아휴직급여액은 육아휴직자 월급여액의 40%까지 지\\n\\n급할 예정이므로 육아휴직급여액은 P×40%이다. 육아휴직자가 발생한 \\n\\n경우 대체 고용할 확률 p는 고용노동부의 육아휴직 관련 자료를 이용\\n\\n한다. 고용노동부에 따르면 2011년의 경우 육아휴직급여 대상자는 \\n\\n40,923명이며, 육아휴직에 따른 대체인력 고용 예상인원은 2,836명이\\n\\n다. 2007년부터 2011년까지의 현황을 정리하면 다음의 [표]와 같다.\\n\\n[표]  육아휴직급여  수급자의  수  및  대체인력  고용  현황:  2007~2011년\\n\\n(단위:  명,  % )\\n\\n2007\\n\\n2008\\n\\n2009\\n\\n2010\\n\\n2011\\n\\n평균\\n\\n육아휴직급여  수급자(A)\\n\\n21,185\\n\\n29,145\\n\\n35,400\\n\\n41,291\\n\\n43,899\\n\\n34,184\\n\\n대체인력  채용(B)\\n\\n796\\n\\n1,658\\n\\n1,957\\n\\n2,396\\n\\n2,836\\n\\n1,929\\n\\n비  율(B/A)\\n\\n3.8\\n\\n5.7\\n\\n5.5\\n\\n5.8\\n\\n6.5\\n\\n5.6\\n\\n자료: 고용노동부  자료를  바탕으로  국회예산정책처  작성\\n\\n위의 [표]의 자료에 따라 육아휴직자가 발생한 경우 대체 고용할 확률 \\n\\np의 값은 5.6%라고 가정한다. 그리고 비용이 발생한다고 가정하여 위\\n\\n의 수식을 다시 작성하면 다음의 수식과 같다.\\n\\nN×p×X + N×육아휴직급여액 - N×P > 0\\n\\n(1)\\n\\n- 9 -\\n\\n\\x0c- 10 -\\n\\nN×5.6%×X + N×P×40% - N×P > 0\\n\\n0.056×X > 0.6P\\n\\nX > 10.7×P\\n\\n(2)\\n\\n(3)\\n\\n(5)\\n\\n위의 수식에 육아휴직자가 받는 월 급여액을 대입하여 대체고용인력\\n\\n자에게 지급하는 월 급여액을 추정하여 보자. 육아휴직자가 월 200만\\n\\n원을 받는다고 가정하면, 대체고용인력자에게 육아휴직자가 받는 월 \\n\\n급여액의 10.7배에 달하는 월 21,428,571원 이상을 지급해야 추가 비용\\n\\n이 발생한다. 대체고용인력자에게 육아휴직자보다 더 많은 월급여액을 \\n\\n주지는 않을 것이고 그리고 10여배 이상 월급을 주지도 않을 것이기 \\n\\n때문에 추가 비용이 발생한다고 보기 힘들다. 위의 수식에서 대체인력 \\n\\n고용확률 p를 20%로 가정하더라도(이 경우 X > 3×P) 200만원 받는 \\n\\n육아휴직자 대체인력에게 월 600만원 이상을 지급해야 추가 비용이 \\n\\n발생한다.\\n\\n행정안전부의 통계자료(행정안전부 통계연감)에서는 지방공무원의 육\\n\\n아휴직 현황자료를 보여주고 있다. 여기서 육아휴직자가 발생한 경우 \\n\\n대체인력을 주로 임용대기자 또는 일용직을 활용하는 것으로 보인다. \\n\\n따라서 공무원의 경우에도 [표]에서 보여주는 일반기업체의 대체인력 \\n\\n고용확률과 차이는 크지 않을 것으로 보인다.\\n\\n이상의 논의를 바탕으로 육아휴직기간을 만6에서 만8세로 연장하더라\\n\\n도 법률 개정에 따른 추가 비용은 발생하지 않을 것으로 예상된다.\\n\\n\\x0c4.  작성자\\n\\n국회예산정책처 법안비용추계1팀\\n\\n팀      장   정 문 종\\n\\n예산분석관   김 태 완\\n\\n(02-788-4649, tanzania@assembly.go.kr)\\n\\n- 11 -\\n\\n\\x0c'"
      ]
     },
     "execution_count": 34,
     "metadata": {},
     "output_type": "execute_result"
    }
   ],
   "source": [
    "kobill.open('1809890.txt').read()"
   ]
  }
 ],
 "metadata": {
  "kernelspec": {
   "display_name": "Python 3",
   "language": "python",
   "name": "python3"
  },
  "language_info": {
   "codemirror_mode": {
    "name": "ipython",
    "version": 3
   },
   "file_extension": ".py",
   "mimetype": "text/x-python",
   "name": "python",
   "nbconvert_exporter": "python",
   "pygments_lexer": "ipython3",
   "version": "3.7.4"
  }
 },
 "nbformat": 4,
 "nbformat_minor": 4
}
