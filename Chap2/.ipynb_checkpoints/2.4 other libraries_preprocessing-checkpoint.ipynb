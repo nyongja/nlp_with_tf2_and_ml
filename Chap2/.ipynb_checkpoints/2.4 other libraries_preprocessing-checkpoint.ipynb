{
 "cells": [
  {
   "cell_type": "markdown",
   "metadata": {},
   "source": [
    "## 4. 그 밖의 라이브러리\n",
    "\n",
    "계산을 위한 라이브러리인 numpy, 데이터 분석을 위한 pandas, 시각화 도구인 matplotlib, 정규 표현식을 사용하기 위한 Re, HTML을 다루기 위한 Beautiful Soup에 대해 알아보자."
   ]
  },
  {
   "cell_type": "markdown",
   "metadata": {},
   "source": [
    "### 넘파이\n",
    "\n",
    "넘파이(numpy)는 빠르고 효율적인 계산을 위해 만들어진 파이썬 라이브러리다.  \n",
    "고성능의 다차원 배열 객체와 이러한 배열을 계산한 효율적인 도구를 제공.  \n",
    "핵심은 **ndarray** 객체! 이는 동일한 자료형을 가지는 n차원의 배열로 이 객체를 활용하면 파이썬에 내장된 배열을 사용하는 것보다 더 적은 코드로 연산이 가능하고 더 빠르게 결과를 얻을 수 있다!"
   ]
  },
  {
   "cell_type": "markdown",
   "metadata": {},
   "source": [
    "`conda install numpy`"
   ]
  },
  {
   "cell_type": "code",
   "execution_count": 1,
   "metadata": {},
   "outputs": [
    {
     "name": "stdout",
     "output_type": "stream",
     "text": [
      "[1 2 3]\n"
     ]
    }
   ],
   "source": [
    "import numpy as np\n",
    "a = np.array([1, 2, 3])\n",
    "print(a)"
   ]
  },
  {
   "cell_type": "markdown",
   "metadata": {},
   "source": [
    "### 넘파이 배열\n",
    "넘파이 배열은 앞서 말한 **ndarray** 객체 형태다.  \n",
    "이 객체는 동일한 자료형을 가지는 값들이 표(또는 격자판) 형태로 구성돼 있다.  \n",
    "각 값은 음이 아닌 정수 값으로 색인되고, 객체의 차원은 axis(축)라 불린다.\n",
    "\n",
    "ndarray 객체의 속성에 대해 알아보자.\n",
    "- ndarray.ndim : 배열의 축(차원)의 수를 반환\n",
    "- ndarray.shape : 배열의 형태 반환. 예를 들어 2*3 크기의 2차원 배열이 있다면 이 배열의 shape은 (2,3)\n",
    "- ndarray.size : 배열내 원소의 총 개수 반환\n",
    "- ndarray.dtype : 배열 내 원소들의 자료형 반환"
   ]
  },
  {
   "cell_type": "code",
   "execution_count": 3,
   "metadata": {},
   "outputs": [
    {
     "name": "stdout",
     "output_type": "stream",
     "text": [
      "2\n",
      "(3, 3)\n",
      "9\n",
      "int32\n"
     ]
    }
   ],
   "source": [
    "a = np.array([[1, 2, 3], [4, 5, 6], [7, 8, 9]])\n",
    "\n",
    "print(a.ndim)\n",
    "print(a.shape)\n",
    "print(a.size)\n",
    "print(a.dtype)"
   ]
  },
  {
   "cell_type": "markdown",
   "metadata": {},
   "source": [
    "배열을 만들 때 다음과 같은 다양한 방법이 가능하다\n",
    "- numpy.zeros : 모든 배열의 원소가 0인 배열\n",
    "- numpy.ones : 모든 배열의 원소가 1인 배열\n",
    "- numpy.empty : 배열의 크기만 정해주고 원소는 초기화하지 않은 배열. 원소에는 매우 크거나 작은 값\n",
    "- numpy.arrange : 파이썬의 range 함수와 유사한 형태로 배열 생성. 배열의 원소들이 수열을 구성\n",
    "- numpy.full : 배열의 모든 값이 하나의 상수인 배열 생성\n",
    "- numpy.eye : 지정한 크기의 단위행렬 생성\n",
    "- numpy.random.random : 배열의 원소를 임의의 값으로 생성. 값은 0부터 1 사이의 값으로 지정"
   ]
  },
  {
   "cell_type": "code",
   "execution_count": 7,
   "metadata": {},
   "outputs": [
    {
     "name": "stdout",
     "output_type": "stream",
     "text": [
      "[[0. 0. 0.]\n",
      " [0. 0. 0.]]\n",
      "[[1.]\n",
      " [1.]]\n",
      "[[0.13226959 0.06988281]\n",
      " [0.36799482 0.80672   ]]\n",
      "[10 15 20 25]\n",
      "[[4 4]\n",
      " [4 4]]\n",
      "[[1. 0. 0.]\n",
      " [0. 1. 0.]\n",
      " [0. 0. 1.]]\n",
      "[[0.53838442 0.77226883]\n",
      " [0.89336903 0.82286565]]\n"
     ]
    }
   ],
   "source": [
    "a = np.zeros((2, 3))\n",
    "print(a)\n",
    "\n",
    "b = np.ones((2, 1))\n",
    "print(b)\n",
    "\n",
    "c = np.empty((2, 2))\n",
    "print(c)\n",
    "\n",
    "d = np.arange(10, 30, 5) # 10부터 30 전까지 5 단위로 배열 생성\n",
    "print(d)\n",
    "\n",
    "e = np.full((2, 2), 4) # 원소가 모두 4인 배열 생성\n",
    "print(e)\n",
    "\n",
    "f = np.eye(3)\n",
    "print(f)\n",
    "\n",
    "g = np.random.random((2, 2))\n",
    "print(g)"
   ]
  },
  {
   "cell_type": "markdown",
   "metadata": {},
   "source": [
    "### 넘파이 기본 연산\n",
    "\n",
    "넘파이는 배열끼리 연산할 때 빠르고 사용하기 쉬운 여러 연산 함수를 제공.  \n",
    "넘파이에서 제공하는 기본 배열 연산에 대해 알아보자.  \n",
    "\n",
    "넘파이는 기본적인 사칙 연산을 모두 지원.  \n",
    "주의할 점은 벡터끼리의 곱셈과 내적을 구분한다는 것!  \n",
    "\\* 연산의 경우 벡터끼리 사용할 경우 원소별 곱셈을 의미\n",
    "dot 연산이 벡터의 내적!"
   ]
  },
  {
   "cell_type": "code",
   "execution_count": 10,
   "metadata": {},
   "outputs": [
    {
     "name": "stdout",
     "output_type": "stream",
     "text": [
      "[11 22 33]\n",
      "[11 22 33]\n",
      "[ -9 -18 -27]\n",
      "[ 9 18 27]\n",
      "[1 4 9]\n",
      "[ True False False]\n",
      "[[10 40]\n",
      " [90 40]]\n",
      "[[ 70  40]\n",
      " [150 100]]\n",
      "[[ 70  40]\n",
      " [150 100]]\n"
     ]
    }
   ],
   "source": [
    "a = np.array([1, 2, 3])\n",
    "b = np.array([10, 20, 30])\n",
    "\n",
    "print(a+b)\n",
    "\n",
    "print(np.add(a, b))\n",
    "\n",
    "print(a-b)\n",
    "\n",
    "print(np.subtract(b, a))\n",
    "\n",
    "print(a**2)\n",
    "\n",
    "print(b < 15)\n",
    "\n",
    "c = np.array([[1, 2], \n",
    "              [3, 4]])\n",
    "\n",
    "d = np.array([[10, 20],\n",
    "              [30, 10]])\n",
    "\n",
    "print(c * d) # 원소별 곱셈\n",
    "\n",
    "print(np.dot(c, d)) # 내적\n",
    "\n",
    "print(c.dot(d)) # 내적의 또 다른 사용법"
   ]
  },
  {
   "cell_type": "markdown",
   "metadata": {},
   "source": [
    "위의 기본적인 연산 외에 중요한 연산 기능은 **축(axis)** 을 기준으로 한 연산."
   ]
  },
  {
   "cell_type": "code",
   "execution_count": 12,
   "metadata": {},
   "outputs": [
    {
     "name": "stdout",
     "output_type": "stream",
     "text": [
      "[ 7 11 15 19]\n",
      "[10 26 16]\n",
      "[4 8 7]\n",
      "[5 6 7 8]\n"
     ]
    }
   ],
   "source": [
    "a = np.array([[1, 2, 3, 4], \n",
    "              [5, 6, 7, 8],\n",
    "              [1, 3, 5, 7]])\n",
    "\n",
    "print(a.sum(axis = 0)) # 0축, 즉 열을 기준으로 한 덧셈\n",
    "\n",
    "print(a.sum(axis = 1)) # 1축, 즉 행을 기준으로 한 덧셈\n",
    "\n",
    "print(a.max(axis = 1)) # 각 행에서의 최댓값\n",
    "\n",
    "print(a.max(axis = 0)) # 각 열에서의 최댓값"
   ]
  },
  {
   "cell_type": "markdown",
   "metadata": {},
   "source": [
    "#### 넘파이 배열 인덱싱, 슬라이싱\n",
    "\n",
    "넘파이 배열은 파이썬과 마찬가지로 인덱싱과 슬라이싱이 가능  \n",
    "\n",
    "다차원 배열의 경우 넘파이는 유용한 인덱싱과 슬라이싱 기능을 제공.  \n",
    "이 경우 인덱싱은 축(axis)을 기준으로 함!"
   ]
  },
  {
   "cell_type": "code",
   "execution_count": 16,
   "metadata": {},
   "outputs": [
    {
     "name": "stdout",
     "output_type": "stream",
     "text": [
      "6\n",
      "[2 5 8]\n",
      "[7 8 9]\n"
     ]
    }
   ],
   "source": [
    "a = np.array([[1, 2, 3],\n",
    "              [4, 5, 6],\n",
    "              [7, 8, 9]])\n",
    "\n",
    "print(a[1, 2])\n",
    "\n",
    "print(a[ : , 1]) #1열의 모든 원소\n",
    "\n",
    "print(a[-1]) # 마지막 행"
   ]
  },
  {
   "cell_type": "code",
   "execution_count": null,
   "metadata": {},
   "outputs": [],
   "source": []
  }
 ],
 "metadata": {
  "kernelspec": {
   "display_name": "Python 3",
   "language": "python",
   "name": "python3"
  },
  "language_info": {
   "codemirror_mode": {
    "name": "ipython",
    "version": 3
   },
   "file_extension": ".py",
   "mimetype": "text/x-python",
   "name": "python",
   "nbconvert_exporter": "python",
   "pygments_lexer": "ipython3",
   "version": "3.7.4"
  }
 },
 "nbformat": 4,
 "nbformat_minor": 4
}
