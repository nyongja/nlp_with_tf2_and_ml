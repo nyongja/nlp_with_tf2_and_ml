{
 "cells": [
  {
   "cell_type": "markdown",
   "metadata": {},
   "source": [
    "### MaLSTM\n",
    "MaLSTM 모델은 **순서가 있는 입력 데이터에 적합하다는 평을 받는 순환 신경망 기반의 모델**\n",
    "\n",
    "#### 모델 소개\n",
    "이번 챕터에서는 LSTM 계열을 활용해 문장의 유사도를 구해보자.  \n",
    "\n",
    "앞에서 언급했듯 순환 신경망 계열의 모델은 문장의 시퀀스(Sequence) 형태로 학습시키고, 기존 순환 신경망보다 장기적인 학습에 효과적인 성능을 보여줌.  \n",
    "\n",
    "MaLSTM이란 맨하탄 거리(Manhattan Distance) + LSTM 줄임말로써, 일반적으로 문장의 유사도를 계산할 때 코사인 유사도를 사용하는 대신 맨하탄 거리를 사용하는 모델. \n",
    "\n",
    "합성곱 레이어 대신 순환 신경망 기반의 LSTM층을 적용해 각 문장의 의미 벡터를 뽑아보겠다. \n",
    "해당 모델에서의 의미 벡터는 각 LSTM의 마지막 스텝 값으로 이 값이 문장의 모든 단어에 대한 정보가 반영된 값이다.  \n",
    "이렇게 뽑은 두 벡터에 대해 맨하탄 거리를 계산해서 두 문장 사이의 유사도를 측정한다."
   ]
  },
  {
   "cell_type": "markdown",
   "metadata": {},
   "source": [
    "#### 모델 구현\n",
    "이번 절에서는 최대한 간단한 형태로 모델을 만들어 보겠다.  \n",
    "순환 신경망 계열 모델의 경우 층을 깊게 하지 않을 경우 성능이 쉽게 높아지지 않는데, 여기서는 최대한 쉽게 배울 수 있게 단층의 얕은 모델을 만들어서 유사도를 측정한다.  \n",
    "\n",
    "해당 모델의 경우 데이터를 불러오고해당 데이터의 학습, 평가 데이터를 구성하는 부분까지는 앞선 합성곱 모델과 동일하다.  "
   ]
  },
  {
   "cell_type": "code",
   "execution_count": 2,
   "metadata": {},
   "outputs": [],
   "source": [
    "import os\n",
    "import json\n",
    "import numpy as np\n",
    "import pandas as pd\n",
    "import tensorflow as tf\n",
    "import matplotlib.pyplot as plt\n",
    "from tensorflow.keras import layers\n",
    "from tensorflow.keras.callbacks import EarlyStopping, ModelCheckpoint"
   ]
  },
  {
   "cell_type": "code",
   "execution_count": 15,
   "metadata": {},
   "outputs": [],
   "source": [
    "DATA_IN_PATH = './data_in/'\n",
    "DATA_OUT_PATH = './data_out/'\n",
    "TRAIN_Q1_DATA_FILE = 'q1_train.npy'\n",
    "TRAIN_Q2_DATA_FILE = 'q2_train.npy'\n",
    "TRAIN_LABEL_DATA_FILE = 'label_train.npy'\n",
    "DATA_CONFIGS = 'data_configs.npy'"
   ]
  },
  {
   "cell_type": "code",
   "execution_count": 16,
   "metadata": {},
   "outputs": [],
   "source": [
    "q1_data = np.load(open(DATA_IN_PATH + TRAIN_Q1_DATA_FILE, 'rb'))\n",
    "q2_data = np.load(open(DATA_IN_PATH + TRAIN_Q2_DATA_FILE, 'rb'))\n",
    "labels = np.load(open(DATA_IN_PATH + TRAIN_LABEL_DATA_FILE, 'rb'))\n",
    "prepro_configs = json.load(open(DATA_IN_PATH + DATA_CONFIGS, 'r'))"
   ]
  },
  {
   "cell_type": "code",
   "execution_count": 7,
   "metadata": {},
   "outputs": [],
   "source": [
    "class MaLSTM(tf.keras.Model):\n",
    "    \n",
    "    def __init__(self, **kargs):\n",
    "        super(MaLSTM, self).__init__(name=model_name)\n",
    "        self.embedding = layers.Embedding(input_dim=kargs['vocab_size'],\n",
    "                                     output_dim=kargs['embedding_dimension'])\n",
    "        self.lstm = layers.LSTM(units=kargs['lstm_dimension'])\n",
    "        \n",
    "    def call(self, x):\n",
    "        x1, x2 = x # 두 개의 입력 쌍이 튜플 형태로 들어오므로 각각 다른 변수에 할당\n",
    "        x1 = self.embedding(x1) # 각각 임베딩 층과 LSTM 층에 적용해 각 문장에 대해 단어들의 정보를 반영한 은닉 상태 벡터를 뽑음\n",
    "        x2 = self.embedding(x2)\n",
    "        x1 = self.lstm(x1)\n",
    "        x2 = self.lstm(x2)\n",
    "        '''\n",
    "        이제 이 두 벡터 간의 맨하탄 거리를 계산하면 되는데\n",
    "        이렇게 정의한 맨하탄 거리는 0보다 큰 어떤 값을 가질텐데,\n",
    "        우리에게 필요한 최종 출력값은 두 문장 사이의 유사도 값이므로\n",
    "        벡터 사이의 거리를 벡터 사이의 유사도로 바꿔야 함.\n",
    "        거리가 멀수록 유사도 값으느 작아지고 거리가 가까울수록 유사도는 1에 가까워지게 해야 하는데,\n",
    "        이를 위해 벡터 사이의 거리를 대상으로 y축에 대칭이 된 지수함수인 exp(-x)함수를 적용!\n",
    "        '''\n",
    "        x = tf.exp(-tf.reduce_sum(tf.abs(x1 - x2), axis=1)) # 맨하탄 거리 계산을 위해 두 벡터의 차이를 계산한 후 절댓값 함수적용.\n",
    "                                                            #그리고 벡터의 각 원소 간의 차이를 하나의 합으로 만들기 위해 절댓값 합을 계산. \n",
    "                                                            # 이렇게 계산한 맨하탄 거리를 음수값으로 바꾼 후 tf.exp 함수에 적용\n",
    "        \n",
    "        return x"
   ]
  },
  {
   "cell_type": "markdown",
   "metadata": {},
   "source": [
    "각 문장을 각 네트워크(임베딩 + LSTM)에 통과시킨 후 최종 출력 벡터 사이의 맨하탄 거리를 측정해 최종 출력값으로 뽑는 구조.  \n",
    "\n",
    "우선 모델에서 사용하는 층들을 생성하는 부분을 보자.  \n",
    "전체적으로 사용되는 층은 임베딩 층, LSTM 층 두 가지를 사용한다."
   ]
  },
  {
   "cell_type": "markdown",
   "metadata": {},
   "source": [
    "각 층은 입력값으로 들어오는 문장 쌍에 대해 각각 적용됨.  \n",
    "물론 각 문장에 적용되는 임베딩 층과 LSTM 층을 각각 정의해도 됨.  \n",
    "논문에서는 각 문장에 대한 층을 하나만 정의하는 방법과 각각 따로 정의하는 방법 두 가지를 제시함.  \n",
    "그 중 여기서는 좀 더 간단하고 쉬운 방법인 하나만 정의하는 방법으로 구현한다.  \n",
    "\n",
    "이제 정의한 층들을 활용해 입력값에 대한 연산을 진행하는 call 메서드에 대해 알아보자.  \n",
    "우선 입력값은 두 개의 문장 쌍이 튜플 형태로 모델에 들어오게 됨.  \n",
    "따라서 튜플 형식의 두 문장을 각각 다른 변수에 할당한다.  "
   ]
  },
  {
   "cell_type": "code",
   "execution_count": 17,
   "metadata": {},
   "outputs": [],
   "source": [
    "model_name = 'malstm_similarity'\n",
    "BATCH_SIZE = 128\n",
    "NUM_EPOCHS = 5\n",
    "VALID_SPLIT = 0.1\n",
    "\n",
    "kargs = {\n",
    "    'vocab_size': prepro_configs['vocab_size'],\n",
    "    'embedding_dimension': 100,\n",
    "    'lstm_dimension': 150,\n",
    "}"
   ]
  },
  {
   "cell_type": "code",
   "execution_count": 18,
   "metadata": {},
   "outputs": [],
   "source": [
    "model = MaLSTM(**kargs)\n",
    "\n",
    "model.compile(optimizer=tf.keras.optimizers.Adam(1e-3),\n",
    "              loss=tf.keras.losses.BinaryCrossentropy(),\n",
    "              metrics=[tf.keras.metrics.BinaryAccuracy(name='accuracy')])"
   ]
  },
  {
   "cell_type": "code",
   "execution_count": 19,
   "metadata": {},
   "outputs": [
    {
     "name": "stdout",
     "output_type": "stream",
     "text": [
      "./data_out/malstm_similarity -- Folder create complete \n",
      "\n"
     ]
    }
   ],
   "source": [
    "earlystop_callback = EarlyStopping(monitor='val_accuracy', min_delta=0.0001, patience=1)\n",
    "# min_delta: the threshold that triggers the termination (acc should at least improve 0.0001)\n",
    "# patience: no improvment epochs (patience = 1, 1번 이상 상승이 없으면 종료)\\\n",
    "\n",
    "checkpoint_path = DATA_OUT_PATH + model_name + '/weights.h5'\n",
    "checkpoint_dir = os.path.dirname(checkpoint_path)\n",
    "\n",
    "# Create path if exists\n",
    "if os.path.exists(checkpoint_dir):\n",
    "    print(\"{} -- Folder already exists \\n\".format(checkpoint_dir))\n",
    "else:\n",
    "    os.makedirs(checkpoint_dir, exist_ok=True)\n",
    "    print(\"{} -- Folder create complete \\n\".format(checkpoint_dir))\n",
    "    \n",
    "\n",
    "cp_callback = ModelCheckpoint(\n",
    "    checkpoint_path, monitor='val_accuracy', verbose=1, save_best_only=True, save_weights_only=True)"
   ]
  },
  {
   "cell_type": "code",
   "execution_count": 20,
   "metadata": {},
   "outputs": [
    {
     "name": "stdout",
     "output_type": "stream",
     "text": [
      "Epoch 1/5\n",
      "2100/2100 [==============================] - ETA: 0s - loss: 0.5308 - accuracy: 0.7349\n",
      "Epoch 00001: val_accuracy improved from -inf to 0.68199, saving model to ./data_out/malstm_similarity/weights.h5\n",
      "2100/2100 [==============================] - 291s 139ms/step - loss: 0.5308 - accuracy: 0.7349 - val_loss: 0.6490 - val_accuracy: 0.6820\n",
      "Epoch 2/5\n",
      "2100/2100 [==============================] - ETA: 0s - loss: 0.4043 - accuracy: 0.8189\n",
      "Epoch 00002: val_accuracy improved from 0.68199 to 0.77152, saving model to ./data_out/malstm_similarity/weights.h5\n",
      "2100/2100 [==============================] - 285s 136ms/step - loss: 0.4043 - accuracy: 0.8189 - val_loss: 0.5239 - val_accuracy: 0.7715\n",
      "Epoch 3/5\n",
      "2100/2100 [==============================] - ETA: 0s - loss: 0.3581 - accuracy: 0.8452\n",
      "Epoch 00003: val_accuracy did not improve from 0.77152\n",
      "2100/2100 [==============================] - 283s 135ms/step - loss: 0.3581 - accuracy: 0.8452 - val_loss: 0.5575 - val_accuracy: 0.7580\n"
     ]
    }
   ],
   "source": [
    "history = model.fit((q1_data, q2_data), labels, batch_size=BATCH_SIZE, epochs=NUM_EPOCHS,\n",
    "                    validation_split=VALID_SPLIT, callbacks=[earlystop_callback, cp_callback])"
   ]
  },
  {
   "cell_type": "code",
   "execution_count": 21,
   "metadata": {},
   "outputs": [],
   "source": [
    "\n",
    "def plot_graphs(history, string):\n",
    "    plt.plot(history.history[string])\n",
    "    plt.plot(history.history['val_'+string], '')\n",
    "    plt.xlabel(\"Epochs\")\n",
    "    plt.ylabel(string)\n",
    "    plt.legend([string, 'val_'+string])\n",
    "    plt.show()"
   ]
  },
  {
   "cell_type": "code",
   "execution_count": 22,
   "metadata": {},
   "outputs": [
    {
     "data": {
      "image/png": "[encoded data removed]",
      "text/plain": [
       "<Figure size 432x288 with 1 Axes>"
      ]
     },
     "metadata": {
      "needs_background": "light"
     },
     "output_type": "display_data"
    }
   ],
   "source": [
    "plot_graphs(history, 'loss')"
   ]
  },
  {
   "cell_type": "code",
   "execution_count": 23,
   "metadata": {},
   "outputs": [
    {
     "data": {
      "image/png": "[encoded data removed]",
      "text/plain": [
       "<Figure size 432x288 with 1 Axes>"
      ]
     },
     "metadata": {
      "needs_background": "light"
     },
     "output_type": "display_data"
    }
   ],
   "source": [
    "plot_graphs(history, 'accuracy')"
   ]
  },
  {
   "cell_type": "markdown",
   "metadata": {},
   "source": [
    "#### 데이터 제출"
   ]
  },
  {
   "cell_type": "code",
   "execution_count": 24,
   "metadata": {},
   "outputs": [],
   "source": [
    "TEST_Q1_DATA_FILE = 'test_q1.npy'\n",
    "TEST_Q2_DATA_FILE = 'test_q2.npy'\n",
    "TEST_ID_DATA_FILE = 'test_id.npy'\n",
    "\n",
    "test_q1_data = np.load(open(DATA_IN_PATH + TEST_Q1_DATA_FILE, 'rb'))\n",
    "test_q2_data = np.load(open(DATA_IN_PATH + TEST_Q2_DATA_FILE, 'rb'))\n",
    "test_id_data = np.load(open(DATA_IN_PATH + TEST_ID_DATA_FILE, 'rb'), allow_pickle=True)"
   ]
  },
  {
   "cell_type": "code",
   "execution_count": 25,
   "metadata": {},
   "outputs": [],
   "source": [
    "SAVE_FILE_NM = 'weights.h5'\n",
    "model.load_weights(os.path.join(DATA_OUT_PATH, model_name, SAVE_FILE_NM))"
   ]
  },
  {
   "cell_type": "code",
   "execution_count": 26,
   "metadata": {},
   "outputs": [],
   "source": [
    "predictions = model.predict((test_q1_data, test_q2_data), batch_size=BATCH_SIZE)"
   ]
  },
  {
   "cell_type": "code",
   "execution_count": 27,
   "metadata": {},
   "outputs": [],
   "source": [
    "output = pd.DataFrame( data={\"test_id\":test_id_data, \"is_duplicate\": list(predictions)} )\n",
    "output.to_csv(DATA_OUT_PATH+\"rnn_predict.csv\", index=False, quoting=3)"
   ]
  }
 ],
 "metadata": {
  "kernelspec": {
   "display_name": "Python 3",
   "language": "python",
   "name": "python3"
  },
  "language_info": {
   "codemirror_mode": {
    "name": "ipython",
    "version": 3
   },
   "file_extension": ".py",
   "mimetype": "text/x-python",
   "name": "python",
   "nbconvert_exporter": "python",
   "pygments_lexer": "ipython3",
   "version": "3.7.4"
  }
 },
 "nbformat": 4,
 "nbformat_minor": 4
}
