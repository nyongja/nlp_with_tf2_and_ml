{
 "cells": [
  {
   "cell_type": "markdown",
   "metadata": {},
   "source": [
    "## 2. 텍스트 분류\n",
    "텍스트 분류(Text Classification) : 자연어 처리 기술을 활용해 특정 텍스트를 사람들이 정한 몇 가지 범주(Class) 중 어느 범주에 속하는지 분류하는 문제.  \n",
    "- 이진 분류 (Binary Classification) : 2가지 범주에 대해 구분하는 문제\n",
    "- 다중 범주 분류 (Multi Class Classification) : 3개 이상의 범주에 대해 분류하는 문제.  \n",
    "\n",
    "### 지도 학습(Supervised Learning)을 통한 텍스트 분류\n",
    "글(데이터)에 대해 각각 속한 범주에 대한 값(라벨)이 이미 주어져 있고, 주어진 범주로 글들을 모두 학습한 후 학습한 결과를 이용해 새로운 글의 범주를 예측하는 방법  \n",
    "- Naive Bayes Classifier\n",
    "- Support Vector Machine\n",
    "- Neural Network\n",
    "- Linear Classifier\n",
    "- Logistic Classifier\n",
    "- Random Forest\n",
    "\n",
    "### 비지도 학습(Unsupervised Learning)을 통한 텍스트 분류\n",
    "데이터만 존재하고, 각 데이터는 범주로 미리 나눠져 있지 않아 데이터의 특성을 찾아 적당한 범주를 만들어 각 데이터를 나눔.  \n",
    "- k-means clustering\n",
    "- Hierarchical Clustering"
   ]
  }
 ],
 "metadata": {
  "kernelspec": {
   "display_name": "Python 3",
   "language": "python",
   "name": "python3"
  },
  "language_info": {
   "codemirror_mode": {
    "name": "ipython",
    "version": 3
   },
   "file_extension": ".py",
   "mimetype": "text/x-python",
   "name": "python",
   "nbconvert_exporter": "python",
   "pygments_lexer": "ipython3",
   "version": "3.7.4"
  }
 },
 "nbformat": 4,
 "nbformat_minor": 4
}
