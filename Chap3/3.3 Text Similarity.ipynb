{
 "cells": [
  {
   "cell_type": "markdown",
   "metadata": {},
   "source": [
    "## 3. 텍스트 유사도\n",
    "유사도를 측정하기 위해 텍스트를 정량화하는 방법에는 여러 가지가 있음.  \n",
    "본 책에서는 **딥러닝** 을 기반으로 텍스트의 유사도를 측정할 것이다.  \n",
    "\n",
    "텍스트를 벡터화한 후 벡터화된 각 문장 간의 유사도를 측정하는 방식!  \n",
    "\n",
    "#### 단어 벡터화\n",
    "- 휴일인 오늘도 서쪽을 중심으로 폭염이 이어졌는데요, 내일은 반가운 비 소식이 있습니다.\n",
    "- 폭염을 피해서 휴일에 놀러왔다가 갑작스런 비로 인해 망연자실하고 있습니다. \n",
    "\n",
    "이 두문장에 대해 각 유사도 측정 방법으로 츄사도를 측정해 보겠다.  \n",
    "우선 유사도 측정을 하기 전에 **TF-IDF(Term Frequency - Inverse Document Frequency)** 를 통해 벡터화 한다.  "
   ]
  },
  {
   "cell_type": "code",
   "execution_count": 6,
   "metadata": {},
   "outputs": [
    {
     "name": "stdout",
     "output_type": "stream",
     "text": [
      "{'갑작스런': 1.4054651081081644, '내일': 1.4054651081081644, '놀러왔다가': 1.4054651081081644, '망연자실': 1.4054651081081644, '반가운': 1.4054651081081644, '서쪽': 1.4054651081081644, '소식': 1.4054651081081644, '오늘': 1.4054651081081644, '으로': 1.4054651081081644, '이어졌는데요': 1.4054651081081644, '인해': 1.4054651081081644, '있습니다': 1.0, '중심': 1.4054651081081644, '폭염': 1.0, '피해서': 1.4054651081081644, '하고': 1.4054651081081644, '휴일': 1.0}\n"
     ]
    }
   ],
   "source": [
    "from sklearn.feature_extraction.text import TfidfVectorizer\n",
    "sent = (\"휴일 인 오늘 도 서쪽 을 중심 으로 폭염 이 이어졌는데요, 내일 은 반가운 비 소식 이 있습니다.\", \"폭염 을 피해서 휴일 에 놀러왔다가 갑작스런 비 로 인해 망연자실 하고 있습니다.\")\n",
    "tfidf_vectorizer = TfidfVectorizer()\n",
    "tfidf_matrix = tfidf_vectorizer.fit_transform(sent) # 문장 벡터화 진행\n",
    "\n",
    "idf = tfidf_vectorizer.idf_\n",
    "print(dict(zip(tfidf_vectorizer.get_feature_names(), idf)))"
   ]
  },
  {
   "cell_type": "markdown",
   "metadata": {},
   "source": [
    "TF-IDF로 벡터화한 값은 자카드 유사도를 제외한 유사도 측정에 모두 사용할 것.  \n",
    "자카드 유사도의 경우 벡터화 없이 바로 유사도 측정이 가능!"
   ]
  },
  {
   "cell_type": "markdown",
   "metadata": {},
   "source": [
    "#### 자카드 유사도\n",
    "자카드 유사도(Jaccard Similarity) : 두 문장을 각각 단어의 집합으로 만든 뒤 두 집합을 통해 유사도를 측정하는 방식  \n",
    "두 집합의 교집합인 공통된 단어의 개수를 두 집합의 합집합, 즉 전체 단어의 수로 나누면 됨.  \n",
    "결괏값은 공통의 원소의 개수에 따라 0과 1 사이의 값이 나올 것이고, 1에 가까울수록 유사도가 높다는 의미.  \n",
    "\n",
    "\n",
    "#### 코사인 유사도\n",
    "두 개의 벡터값에서 코사인 각도를 구하는 것.  \n",
    "-1 ~ 1 사이의 값을 가지고 1에 가까울수록 유사하다는 것을 의미.  \n",
    "\n",
    "다른 유사도 접근법에 비해 일반적으로 성능이 좋은데, 이는 단순히 좌표상의 거리를 구하는 다른 유사도 측정 방법에 비해 코사인 유사도는 말 그대로 두 벡터 간의 각도를 구하는 것이라 방향성의 개념이 더해지기 때문.\n",
    "\n",
    "두 문장이 유사하다면 같은 방향으로 가리킬 것, 유사하지 않을수록 직교로 표현!"
   ]
  },
  {
   "cell_type": "code",
   "execution_count": 7,
   "metadata": {},
   "outputs": [
    {
     "data": {
      "text/plain": [
       "array([[0.17952266]])"
      ]
     },
     "execution_count": 7,
     "metadata": {},
     "output_type": "execute_result"
    }
   ],
   "source": [
    "from sklearn.metrics.pairwise import cosine_similarity\n",
    "\n",
    "cosine_similarity(tfidf_matrix[0:1], tfidf_matrix[1:2]) # 첫 번재와 두 번째 문장 비교"
   ]
  },
  {
   "cell_type": "markdown",
   "metadata": {},
   "source": [
    "#### 유클리디언 유사도\n",
    "가장 기본적인 거리를 측정하는 유사도 공식. \n",
    "\n",
    "$ d(x,y) = \\sqrt{(x_1-y_1)^2+(x_2-y_2)^2+...+(x_n-y_n)^2} $\n",
    "\n",
    "여기서 구하는 거리는 유클리디언 거리(Euclidean Distance) 혹은 L2-Distance라고 불리며, n차원 공간에서 두 점 사이의 최단 거리를 구하는 접근법. "
   ]
  },
  {
   "cell_type": "code",
   "execution_count": 9,
   "metadata": {},
   "outputs": [
    {
     "data": {
      "text/plain": [
       "array([[1.28099753]])"
      ]
     },
     "execution_count": 9,
     "metadata": {},
     "output_type": "execute_result"
    }
   ],
   "source": [
    "from sklearn.metrics.pairwise import euclidean_distances\n",
    "\n",
    "euclidean_distances(tfidf_matrix[0:1], tfidf_matrix[1:2])"
   ]
  },
  {
   "cell_type": "markdown",
   "metadata": {},
   "source": [
    "유클리디언 유사도는 단순히 두 점 사이의 거리를 뜻하므로 값에 제한이 없어 크기는 계속해서 커질 수 있음.  \n",
    "이러한 제한이 없는 유사도 값은 사용하기 어려우므로 값을 제한해야 함.  \n",
    "\n",
    "앞선 유사도 측정 방식과 동일하게 0과 1사이의 값을 갖도록 만들어주는 일반화(Normalize) 방식을 사용해야 함.  \n",
    "방법은 각 문장을 벡터화했는데, 이를 일반화 한 후 다시 유클리디언 유사도를 측정하면 0과 1 사이의 값을 갖게 됨. \n",
    "\n",
    "L1-Nomalization : 각 벡터 안의 요소 값을 모두 더한 것이 크기가 1이 되도록 벡터들의 크기를 조절하는 방법. 즉, 벡터의 모든 값을 더한 뒤 이 값으로 각 벡터의 값을 나누면 됨. "
   ]
  },
  {
   "cell_type": "code",
   "execution_count": 11,
   "metadata": {},
   "outputs": [
    {
     "data": {
      "text/plain": [
       "array([[0.20491229]])"
      ]
     },
     "execution_count": 11,
     "metadata": {},
     "output_type": "execute_result"
    }
   ],
   "source": [
    "import numpy as np\n",
    "\n",
    "def l1_normalize(v) :\n",
    "    norm = np.sum(v)\n",
    "    return v / norm\n",
    "\n",
    "tfidf_norm_l1 = l1_normalize(tfidf_matrix)\n",
    "\n",
    "euclidean_distances(tfidf_norm_l1[0:1], tfidf_norm_l1[1:2])"
   ]
  },
  {
   "cell_type": "markdown",
   "metadata": {},
   "source": [
    "#### 맨하탄 유사도(Manhattan Similarity)\n",
    "맨하탄 거리란 사각형 격자로 이뤄진 지도에서 출발점에서 도착점까지를 가로지르지 않고 갈 수 있는 최단거리를 구하는 공식.  \n",
    "맨하탄 유사도 또한 유클리디언 유사도와 마찬가지로 거리를 통해 유사도를 측정하므로 값이 계속해서 커짐.  \n",
    "따라서 0과 1 사이의 값을 갖도록 L1 정규화방법을 사용해 벡터 안의 요소 값을 정규화한 뒤 유사도를 측정"
   ]
  },
  {
   "cell_type": "code",
   "execution_count": 14,
   "metadata": {},
   "outputs": [
    {
     "data": {
      "text/plain": [
       "array([[0.77865927]])"
      ]
     },
     "execution_count": 14,
     "metadata": {},
     "output_type": "execute_result"
    }
   ],
   "source": [
    "from sklearn.metrics.pairwise import manhattan_distances\n",
    "\n",
    "manhattan_distances(tfidf_norm_l1[0:1], tfidf_norm_l1[1:2])"
   ]
  }
 ],
 "metadata": {
  "kernelspec": {
   "display_name": "Python 3",
   "language": "python",
   "name": "python3"
  },
  "language_info": {
   "codemirror_mode": {
    "name": "ipython",
    "version": 3
   },
   "file_extension": ".py",
   "mimetype": "text/x-python",
   "name": "python",
   "nbconvert_exporter": "python",
   "pygments_lexer": "ipython3",
   "version": "3.7.4"
  }
 },
 "nbformat": 4,
 "nbformat_minor": 4
}
